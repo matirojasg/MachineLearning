{
  "nbformat": 4,
  "nbformat_minor": 0,
  "metadata": {
    "colab": {
      "name": "ConvolutionalNeuralNetwork.ipynb",
      "provenance": []
    },
    "kernelspec": {
      "name": "python3",
      "display_name": "Python 3"
    }
  },
  "cells": [
    {
      "cell_type": "markdown",
      "metadata": {
        "id": "e_lic9LOOmvT",
        "colab_type": "text"
      },
      "source": [
        "# **Red neuronal convolucional para clasificar números de MNIST**"
      ]
    },
    {
      "cell_type": "code",
      "metadata": {
        "id": "gBDuLdS5P4-C",
        "colab_type": "code",
        "colab": {}
      },
      "source": [
        "from keras import models\n",
        "from keras import layers\n",
        "\n",
        "\n",
        "model = models.Sequential()\n",
        "# Para hacer padding, basta con agregar al parámetro padding el valor 'same' en vez de 'valid' que es por default.\n",
        "model.add(layers.Conv2D(32,(5,5),activation='relu', input_shape=(28,28,1)))\n",
        "model.add(layers.MaxPooling2D((2, 2)))\n",
        "\n",
        "model.add(layers.Conv2D(64, (5, 5), activation='relu'))\n",
        "model.add(layers.MaxPooling2D((2, 2)))\n",
        "\n",
        "model.add(layers.Flatten())\n",
        "model.add(layers.Dense(10, activation='softmax'))"
      ],
      "execution_count": 0,
      "outputs": []
    },
    {
      "cell_type": "code",
      "metadata": {
        "id": "fOaZQxzuRxQC",
        "colab_type": "code",
        "colab": {
          "base_uri": "https://localhost:8080/",
          "height": 248
        },
        "outputId": "d37965e2-1244-41df-a652-b1b9d2cf0d9b"
      },
      "source": [
        "from keras.datasets import mnist\n",
        "from keras.utils import to_categorical\n",
        "\n",
        "(train_images, train_labels), (test_images, test_labels) = mnist.load_data()\n",
        "\n",
        "train_images = train_images.reshape((60000, 28, 28, 1))\n",
        "train_images = train_images.astype('float32') / 255\n",
        "\n",
        "test_images = test_images.reshape((10000, 28, 28, 1))\n",
        "test_images = test_images.astype('float32') / 255\n",
        "\n",
        "train_labels = to_categorical(train_labels)\n",
        "test_labels = to_categorical(test_labels)\n",
        "\n",
        "model.compile(loss='categorical_crossentropy',\n",
        "              optimizer='sgd',\n",
        "              metrics=['accuracy'])\n",
        "print(train_images.shape)\n",
        "print(train_labels.shape)\n",
        "model.fit(train_images, train_labels,\n",
        "          batch_size=64,\n",
        "          epochs=5,\n",
        "          verbose=1)\n",
        "\n"
      ],
      "execution_count": 41,
      "outputs": [
        {
          "output_type": "stream",
          "text": [
            "(60000, 28, 28, 1)\n",
            "(60000, 10)\n",
            "Epoch 1/5\n",
            "60000/60000 [==============================] - 55s 914us/step - loss: 0.6573 - accuracy: 0.8288\n",
            "Epoch 2/5\n",
            "60000/60000 [==============================] - 55s 916us/step - loss: 0.2001 - accuracy: 0.9414\n",
            "Epoch 3/5\n",
            "60000/60000 [==============================] - 55s 916us/step - loss: 0.1433 - accuracy: 0.9582\n",
            "Epoch 4/5\n",
            "60000/60000 [==============================] - 55s 919us/step - loss: 0.1156 - accuracy: 0.9659\n",
            "Epoch 5/5\n",
            "60000/60000 [==============================] - 55s 918us/step - loss: 0.0984 - accuracy: 0.9716\n"
          ],
          "name": "stdout"
        },
        {
          "output_type": "execute_result",
          "data": {
            "text/plain": [
              "<keras.callbacks.callbacks.History at 0x7fb4455131d0>"
            ]
          },
          "metadata": {
            "tags": []
          },
          "execution_count": 41
        }
      ]
    },
    {
      "cell_type": "code",
      "metadata": {
        "id": "2Ofx597fVhfC",
        "colab_type": "code",
        "colab": {}
      },
      "source": [
        ""
      ],
      "execution_count": 0,
      "outputs": []
    },
    {
      "cell_type": "code",
      "metadata": {
        "id": "Na9aGzhXR__4",
        "colab_type": "code",
        "colab": {
          "base_uri": "https://localhost:8080/",
          "height": 52
        },
        "outputId": "ef149de8-a831-4a55-a46f-ee094750bbfa"
      },
      "source": [
        "test_loss, test_acc = model.evaluate(test_images, test_labels)\n",
        "\n",
        "print('Test accuracy:', test_acc)"
      ],
      "execution_count": 42,
      "outputs": [
        {
          "output_type": "stream",
          "text": [
            "10000/10000 [==============================] - 3s 267us/step\n",
            "Test accuracy: 0.974399983882904\n"
          ],
          "name": "stdout"
        }
      ]
    },
    {
      "cell_type": "markdown",
      "metadata": {
        "id": "ATWAj7fnehKX",
        "colab_type": "text"
      },
      "source": [
        "# **Red VGGNET**"
      ]
    },
    {
      "cell_type": "code",
      "metadata": {
        "id": "p6tc1XyKeglC",
        "colab_type": "code",
        "colab": {
          "base_uri": "https://localhost:8080/",
          "height": 52
        },
        "outputId": "8d22becd-9ccd-4c37-9997-ce1b7e726b1c"
      },
      "source": [
        "from keras.applications import VGG16\n",
        "\n",
        "model = VGG16(weights='imagenet')\n",
        "# Funciona para un input de dimensiones (224, 224, 3) \n",
        "# Y así hay muchas otras redes pre entrenadas que ofrece keras"
      ],
      "execution_count": 50,
      "outputs": [
        {
          "output_type": "stream",
          "text": [
            "Downloading data from https://github.com/fchollet/deep-learning-models/releases/download/v0.1/vgg16_weights_tf_dim_ordering_tf_kernels.h5\n",
            "553467904/553467096 [==============================] - 12s 0us/step\n"
          ],
          "name": "stdout"
        }
      ]
    }
  ]
}