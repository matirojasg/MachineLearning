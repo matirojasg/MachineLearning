{
  "nbformat": 4,
  "nbformat_minor": 0,
  "metadata": {
    "anaconda-cloud": {},
    "kernelspec": {
      "display_name": "Python 3",
      "language": "python",
      "name": "python3"
    },
    "language_info": {
      "codemirror_mode": {
        "name": "ipython",
        "version": 3
      },
      "file_extension": ".py",
      "mimetype": "text/x-python",
      "name": "python",
      "nbconvert_exporter": "python",
      "pygments_lexer": "ipython3",
      "version": "3.7.3"
    },
    "colab": {
      "name": "lab2_2_CC5206_2019_2.ipynb",
      "provenance": [],
      "collapsed_sections": []
    }
  },
  "cells": [
    {
      "cell_type": "markdown",
      "metadata": {
        "pycharm": {},
        "id": "OqjX9ps65puw",
        "colab_type": "text"
      },
      "source": [
        "# Laboratorio 2.2: Clasificación\n",
        "\n",
        "Bárbara Poblete, Felipe Bravo, Aymé Arango, Juglar Díaz, Hernán Sarmiento, Juan Pablo Silva\n",
        "**Septiembre 2019**"
      ]
    },
    {
      "cell_type": "markdown",
      "metadata": {
        "pycharm": {},
        "id": "ZCWyfAsx5puy",
        "colab_type": "text"
      },
      "source": [
        "## =================== INTEGRANTES =====================\n",
        "\n",
        "Escriba a continuación el nombre de los integrantes del presente laboratorio:\n",
        "\n",
        "1. Matías Rojas\n",
        "\n",
        "2. David de la Puente\n",
        "\n",
        "## ====================================================="
      ]
    },
    {
      "cell_type": "markdown",
      "metadata": {
        "pycharm": {},
        "id": "8NgzWFYI5pu0",
        "colab_type": "text"
      },
      "source": [
        "# Instrucciones\n",
        "\n",
        "\n",
        "1. El formato de entrega es un documento en **.html**, generado por jupyter.\n",
        "\n",
        "2. El laboratorio debe realizarse en grupos de **2 personas**.\n",
        "\n",
        "3. Asegúrese que están los nombres de los integrantes. Sólo uno de los integrantes debe subir este archivo a U-Cursos antes de finalizar la sesión. \n",
        "\n",
        "4. Las respuestas a cada pregunta se deben escribir en los bloques que dicen **RESPUESTA A PREGUNTA X.X**."
      ]
    },
    {
      "cell_type": "markdown",
      "metadata": {
        "pycharm": {},
        "id": "dZHEQ8EZ5pvd",
        "colab_type": "text"
      },
      "source": [
        "# Del Laboratorio \n",
        "\n",
        "En este laboratorio vamos a comparar clasificadores con cierto *baselines* o clasificadores base, y además vamos a trabajar con clases desbalanceadas. "
      ]
    },
    {
      "cell_type": "markdown",
      "metadata": {
        "pycharm": {},
        "id": "59rQLXsm5pve",
        "colab_type": "text"
      },
      "source": [
        "# Parte 1: Comparar clasificadores\n",
        "\n",
        "Una de las principales tareas en enfoques supervisados es evaluar diferentes clasificadores y encontrar el mejor de alguno de ellos para un problema. Por ejemplo, si tenemos dos (o más) clasificadores y queremos compararlos entre sí, nos interesa responder: *¿Cuál de los clasificadores es el mejor?* \n",
        "Para responder esta pregunta, no existe una única solución. \n",
        "\n",
        "Lo que haremos a continuación será ejecutar diferentes clasificadores y compararlos en base a las métricas de Precision, Recall y F1-score."
      ]
    },
    {
      "cell_type": "markdown",
      "metadata": {
        "pycharm": {},
        "id": "59MmjqpV5pvf",
        "colab_type": "text"
      },
      "source": [
        "## Pregunta 1.1  \n",
        "\n",
        "Para realizar la evaluación de distintos clasificadores, vamos a crear la función `run_classifier()`, la cual evalúa un clasificador `clf` recibido como parámetro un dataset `X,y` (dividido en training y testing) y un número de tests llamado `num_test`. Esta función almacena y retorna los valores de precision, recall y f1-score en la variable `metrics` además de los resultados de predicción.\n",
        "\n",
        "\n",
        "En base a lo anterior, incluya las sentencias que ajusten el modelo junto a su correspondiente predicción sobre los datos. No use cross-validation ni tampoco el parámetro `random_state`.\n",
        "\n",
        "\n",
        "### Respuesta 1.1"
      ]
    },
    {
      "cell_type": "code",
      "metadata": {
        "pycharm": {},
        "id": "VaAWs6RX5pvg",
        "colab_type": "code",
        "colab": {}
      },
      "source": [
        "### COMPLETAR ESTE CÓDIGO\n",
        "\n",
        "## run_classifier recibe un clasificador y un dataset dividido para entrenamiento y testing\n",
        "## y opcionalmente la cantidad de resultados que se quiere obtener del clasificador\n",
        "\n",
        "import numpy as np\n",
        "from sklearn.model_selection import train_test_split\n",
        "from sklearn.metrics import f1_score, recall_score, precision_score\n",
        "\n",
        "\n",
        "def run_classifier(clf, X, y, num_tests=100):\n",
        "    metrics = {'f1-score': [], 'precision': [], 'recall': []}\n",
        "    \n",
        "\n",
        "    \n",
        "    for i in range(num_tests):\n",
        "        X_train, X_test, y_train, y_test = train_test_split(X, y, test_size=.30)\n",
        "        ### INICIO COMPLETAR ACÁ \n",
        "        clf.fit(X_train, y_train)\n",
        "        predictions = clf.predict(X_test)   \n",
        "        metrics['y_pred'] = predictions\n",
        "        metrics['y_prob'] = clf.predict_proba(X_test)[:,1]\n",
        "        metrics['f1-score'].append(f1_score(y_test, predictions)) \n",
        "        metrics['recall'].append(recall_score(y_test, predictions))\n",
        "        metrics['precision'].append(precision_score(y_test, predictions))\n",
        "    \n",
        "    return metrics"
      ],
      "execution_count": 0,
      "outputs": []
    },
    {
      "cell_type": "markdown",
      "metadata": {
        "pycharm": {},
        "id": "Lwlyx87E5pvz",
        "colab_type": "text"
      },
      "source": [
        "Luego de completar el código anterior, ejecute el siguiente bloque para comparar los distintos clasificadores. \n",
        "Usaremos un **dataset de cáncer de mamas** para evaluar. Información del dataset la puede encontrar en el siguiente link: https://scikit-learn.org/stable/modules/generated/sklearn.datasets.load_breast_cancer.html"
      ]
    },
    {
      "cell_type": "code",
      "metadata": {
        "pycharm": {},
        "id": "4j4wBg0p5pv0",
        "colab_type": "code",
        "outputId": "21ab0743-2230-420f-fb99-ab5bbe570360",
        "colab": {
          "base_uri": "https://localhost:8080/",
          "height": 611
        }
      },
      "source": [
        "## ejecutar este código\n",
        "\n",
        "from sklearn.datasets import load_breast_cancer\n",
        "from sklearn.dummy import DummyClassifier\n",
        "from sklearn.svm import SVC  # support vector machine classifier\n",
        "from sklearn.tree import DecisionTreeClassifier\n",
        "from sklearn.naive_bayes import GaussianNB  # naive bayes\n",
        "from sklearn.neighbors import KNeighborsClassifier\n",
        "\n",
        "bc = load_breast_cancer()    # dataset cancer de mamas\n",
        "X = bc.data\n",
        "y = bc.target\n",
        "\n",
        "c0 = (\"Base Dummy\", DummyClassifier(strategy='stratified'))\n",
        "c1 = (\"Decision Tree\", DecisionTreeClassifier())\n",
        "c2 = (\"Gaussian Naive Bayes\", GaussianNB())\n",
        "c3 = (\"KNN\", KNeighborsClassifier(n_neighbors=5))\n",
        "\n",
        "classifiers = [c0,c1, c2, c3]\n",
        "\n",
        "results = {}\n",
        "for name, clf in classifiers:\n",
        "    metrics = run_classifier(clf, X, y)   # hay que implementarla en el bloque anterior.\n",
        "    results[name] = metrics\n",
        "    print(\"----------------\")\n",
        "    print(\"Resultados para clasificador: \",name) \n",
        "    print(\"Precision promedio:\",np.array(metrics['precision']).mean())\n",
        "    print(\"Recall promedio:\",np.array(metrics['recall']).mean())\n",
        "    print(\"F1-score promedio:\",np.array(metrics['f1-score']).mean())\n",
        "    print(\"----------------\\n\\n\")\n",
        "    "
      ],
      "execution_count": 0,
      "outputs": [
        {
          "output_type": "stream",
          "text": [
            "----------------\n",
            "Resultados para clasificador:  Base Dummy\n",
            "Precision promedio: 0.6345476436166589\n",
            "Recall promedio: 0.6219521025007758\n",
            "F1-score promedio: 0.6268889039891483\n",
            "----------------\n",
            "\n",
            "\n",
            "----------------\n",
            "Resultados para clasificador:  Decision Tree\n",
            "Precision promedio: 0.9445022729992467\n",
            "Recall promedio: 0.940597872560335\n",
            "F1-score promedio: 0.9421697960938029\n",
            "----------------\n",
            "\n",
            "\n",
            "----------------\n",
            "Resultados para clasificador:  Gaussian Naive Bayes\n",
            "Precision promedio: 0.9396517716275639\n",
            "Recall promedio: 0.969252152439604\n",
            "F1-score promedio: 0.9540080318144442\n",
            "----------------\n",
            "\n",
            "\n",
            "----------------\n",
            "Resultados para clasificador:  KNN\n",
            "Precision promedio: 0.9314819766155358\n",
            "Recall promedio: 0.961666151976116\n",
            "F1-score promedio: 0.9460688309286859\n",
            "----------------\n",
            "\n",
            "\n"
          ],
          "name": "stdout"
        }
      ]
    },
    {
      "cell_type": "markdown",
      "metadata": {
        "pycharm": {},
        "id": "uk64gSNX5pv9",
        "colab_type": "text"
      },
      "source": [
        "### Pregunta 1.2\n",
        "\n",
        "Analizando los resultados obtenidos de cada clasificador, y basándose en las métricas calculadas. ¿Cuál es el mejor clasificador? ¿Qué métricas observó para tomar esa decisión y por qué? Fundamente su respuesta."
      ]
    },
    {
      "cell_type": "markdown",
      "metadata": {
        "pycharm": {},
        "id": "EcfYD9vW5pv-",
        "colab_type": "text"
      },
      "source": [
        "### Respuesta 1.2\n",
        "\n",
        "En base a lo observado, podemos concluir que el mejor clasificador para este caso es el Gaussian Naive Bayes. Esto porque al ver las tres métricas utilizadas, tiene mejores resultados en comparación al resto tanto en Recall como en F1-score, y como esto está hecho en base a un promedio de varias iteraciones significa que en general se comportará así de bien. Si bien no alcanza el mayor puntaje en cuanto a precisión, está muy cercano al mayor que es el de árbol de decisión.\n"
      ]
    },
    {
      "cell_type": "markdown",
      "metadata": {
        "id": "LhQqOrGs8deT",
        "colab_type": "text"
      },
      "source": [
        "#Parte 2: Seleccionando hiperparámetros\n",
        "Los hiperparámetros son parámetros que no se aprenden directamente dentro de los estimadores. En scikit-learn se pasan como argumentos al constructor de las clases. Por ejemplo que kernel usar para Support Vector Classifier, o que criterion para Decision Tree, etc. Es posible y recomendable buscar en el espacio de hiperparámetros la mejor alternativa. Cualquier parámetro proporcionado al construir un estimador puede optimizarse de esta manera. Para encontrar los nombres y los valores actuales de todos los parámetros para un estimador dado puede usar *estimator.get_params()*.\n",
        "\n",
        "Una búsqueda consiste en:\n",
        "\n",
        "*   un estimador (regresor o clasificador como sklearn.svm.SVC ());\n",
        "*   un espacio de parámetros;\n",
        "*   un método para buscar o muestrear candidatos;\n",
        "*   un esquema de validación cruzada; y\n",
        "*   una función de puntuación(score).\n",
        "\n",
        "\n",
        "Tenga en cuenta que es común que un pequeño subconjunto de esos parámetros pueda tener un gran impacto en el rendimiento predictivo o de cálculo del modelo, mientras que otros pueden dejar sus valores predeterminados. Se recomienda leer la documentación de la clase de estimador para obtener una mejor comprensión de su comportamiento esperado, posiblemente leyendo la referencia adjunta a la literatura."
      ]
    },
    {
      "cell_type": "markdown",
      "metadata": {
        "id": "Ftr35YoPkhEo",
        "colab_type": "text"
      },
      "source": [
        "###Pregunta 2.1 \n",
        "\n",
        "Una alternativa para seleccionar hiperparámetros es GridSearchCV. GridSearchCV considera exhaustivamente todas las combinaciones de parámetros. GridSearchCV recibe un *estimador*, recibe *param_grid* (un diccionario o una lista de diccionarios con los nombres de los parametros a probar como keys y una lista de los valores a probar), *scoring* una o varias funciones de puntuación (score) para evaluar cada combinación de parametros y *cv* una extrategia para hacer validación cruzada."
      ]
    },
    {
      "cell_type": "markdown",
      "metadata": {
        "id": "KvtFRHnAvmYy",
        "colab_type": "text"
      },
      "source": [
        "El siguiente código muestra como seleccionar el número de vecinos y que pesos otorgar a los vecinos en un clasificador KNN. \n",
        " \n"
      ]
    },
    {
      "cell_type": "code",
      "metadata": {
        "id": "Jme31lpTroM8",
        "colab_type": "code",
        "outputId": "5dd9d51d-bcae-4072-d067-95427607f289",
        "colab": {
          "base_uri": "https://localhost:8080/",
          "height": 278
        }
      },
      "source": [
        "X_train, X_test, y_train, y_test = train_test_split(X, y, test_size=.30)\n",
        "from sklearn.model_selection import GridSearchCV\n",
        "from sklearn.metrics import classification_report\n",
        "\n",
        "tuned_parameters = {'n_neighbors': [1,3,5], 'weights': ['uniform','distance']}\n",
        "score = 'precision'\n",
        "\n",
        "clf = GridSearchCV(KNeighborsClassifier(), param_grid=tuned_parameters, cv=5,\n",
        "                       scoring=score)\n",
        "clf.fit(X_train, y_train)\n",
        "\n",
        "print(\"Mejor combinación de parámetros:\")\n",
        "print(clf.best_params_)\n",
        " \n",
        "y_true, y_pred = y_test, clf.predict(X_test)\n",
        "print(classification_report(y_true, y_pred))"
      ],
      "execution_count": 0,
      "outputs": [
        {
          "output_type": "stream",
          "text": [
            "Mejor combinación de parámetros:\n",
            "{'n_neighbors': 3, 'weights': 'uniform'}\n",
            "              precision    recall  f1-score   support\n",
            "\n",
            "           0       0.93      0.88      0.90        58\n",
            "           1       0.94      0.96      0.95       113\n",
            "\n",
            "    accuracy                           0.94       171\n",
            "   macro avg       0.93      0.92      0.93       171\n",
            "weighted avg       0.94      0.94      0.94       171\n",
            "\n"
          ],
          "name": "stdout"
        },
        {
          "output_type": "stream",
          "text": [
            "/usr/local/lib/python3.6/dist-packages/sklearn/model_selection/_search.py:814: DeprecationWarning: The default of the `iid` parameter will change from True to False in version 0.22 and will be removed in 0.24. This will change numeric results when test-set sizes are unequal.\n",
            "  DeprecationWarning)\n"
          ],
          "name": "stderr"
        }
      ]
    },
    {
      "cell_type": "markdown",
      "metadata": {
        "id": "dhZ-4ojustZJ",
        "colab_type": "text"
      },
      "source": [
        "###Pregunta\n",
        "*  a) Realice este mismo proceso para un clasificador DecisionTree y los parametros criterion=['gini','entropy'] y max_depth=[1,3,5].\n",
        "*  b) ¿Qué puede decir de los resultados, considera que es necesario seguir explorando los parámetros, fue útil hacer este análisis?"
      ]
    },
    {
      "cell_type": "code",
      "metadata": {
        "id": "oo1gdJeOrErl",
        "colab_type": "code",
        "outputId": "45db6afe-f3dc-42a7-b720-635092202cf2",
        "colab": {
          "base_uri": "https://localhost:8080/",
          "height": 278
        }
      },
      "source": [
        "\n",
        "\n",
        "\n",
        "## RESPUESTA A PREGUNTA 2.1 a)\n",
        "\n",
        "#Completar codigo aca\n",
        "tuned_parameters = {'max_depth': [1,3,5],  'criterion': ['gini','entropy']} #Completar tuned_parameters\n",
        "score = 'precision'\n",
        "clf = GridSearchCV(DecisionTreeClassifier(), param_grid=tuned_parameters, cv=5,\n",
        "                       scoring=score)\n",
        "clf.fit(X_train, y_train)\n",
        "\n",
        "\n",
        "print(\"Mejor combinación de parámetros:\")\n",
        "print(clf.best_params_)\n",
        " \n",
        "y_true, y_pred = y_test, clf.predict(X_test)\n",
        "print(classification_report(y_true, y_pred))"
      ],
      "execution_count": 0,
      "outputs": [
        {
          "output_type": "stream",
          "text": [
            "Mejor combinación de parámetros:\n",
            "{'criterion': 'gini', 'max_depth': 5}\n",
            "              precision    recall  f1-score   support\n",
            "\n",
            "           0       0.94      0.88      0.91        58\n",
            "           1       0.94      0.97      0.96       113\n",
            "\n",
            "    accuracy                           0.94       171\n",
            "   macro avg       0.94      0.93      0.93       171\n",
            "weighted avg       0.94      0.94      0.94       171\n",
            "\n"
          ],
          "name": "stdout"
        },
        {
          "output_type": "stream",
          "text": [
            "/usr/local/lib/python3.6/dist-packages/sklearn/model_selection/_search.py:814: DeprecationWarning: The default of the `iid` parameter will change from True to False in version 0.22 and will be removed in 0.24. This will change numeric results when test-set sizes are unequal.\n",
            "  DeprecationWarning)\n"
          ],
          "name": "stderr"
        }
      ]
    },
    {
      "cell_type": "markdown",
      "metadata": {
        "id": "mF4uhT12yHLQ",
        "colab_type": "text"
      },
      "source": [
        "### Respuesta 2.1 b)\n",
        "\n",
        "Se ejecutó varias veces este trozo de código para ver que configuraciones arrojaba. Pudimos apreciar que la mejor configuración en la mayoría de las ocaciones es con criterion='entropy' y max_depth=5, pero aún así al ejecutarlo varias veces entrega en ciertas ocasiones la configuración criterion='gini' y max_depth=5, pero pocas veces en comparación a la otra, es por esto que sería bueno seguir explorando los hiperparámetros para ver como influyen en las métricas. A simple vista, uno de los factores más importantes es la máxima profundidad del árbol, probamos con nuevos valores en el max_depth (3,5,10) y se escogió como mejor configuración los modelos con profundidad mayor: 10.\n"
      ]
    },
    {
      "cell_type": "markdown",
      "metadata": {
        "pycharm": {},
        "id": "UTMHPOwi5pwD",
        "colab_type": "text"
      },
      "source": [
        "---\n",
        "\n",
        "# Parte 3: Tratando con clases desbalanceadas\n",
        "\n",
        "Para mejorar el rendimiento de un clasificador sobre clases desbalanceadas existen varias técnicas. En esta parte, veremos cómo tratar con este problema usando (sub/over)sampling de las clases.\n",
        "\n",
        "Descargue el dataset `unbalanced.csv` que está en el tutorial. \n",
        "\n",
        "(*Nota: Para ejecutar el siguiente bloque es necesaria la librería `pandas` que viene incluida en Anaconda.*)"
      ]
    },
    {
      "cell_type": "code",
      "metadata": {
        "pycharm": {},
        "id": "Rv_hCdDH5pwE",
        "colab_type": "code",
        "outputId": "25cf905c-9ef1-48c8-e770-a7c9f4add863",
        "colab": {
          "base_uri": "https://localhost:8080/",
          "height": 226
        }
      },
      "source": [
        "import pandas as pd\n",
        "\n",
        "# Cargamos dataset desbalanceado\n",
        "unbalanced = 'unbalanced.csv'\n",
        "unbalanced = 'https://users.dcc.uchile.cl/~hsarmien/mineria/datasets/unbalanced.csv'\n",
        "\n",
        "data = pd.read_csv(unbalanced)  # abrimos el archivo csv y lo cargamos en data.\n",
        "data.head()"
      ],
      "execution_count": 0,
      "outputs": [
        {
          "output_type": "execute_result",
          "data": {
            "text/html": [
              "<div>\n",
              "<style scoped>\n",
              "    .dataframe tbody tr th:only-of-type {\n",
              "        vertical-align: middle;\n",
              "    }\n",
              "\n",
              "    .dataframe tbody tr th {\n",
              "        vertical-align: top;\n",
              "    }\n",
              "\n",
              "    .dataframe thead th {\n",
              "        text-align: right;\n",
              "    }\n",
              "</style>\n",
              "<table border=\"1\" class=\"dataframe\">\n",
              "  <thead>\n",
              "    <tr style=\"text-align: right;\">\n",
              "      <th></th>\n",
              "      <th>V3</th>\n",
              "      <th>V4</th>\n",
              "      <th>V5</th>\n",
              "      <th>V6</th>\n",
              "      <th>V7</th>\n",
              "      <th>V8</th>\n",
              "      <th>V9</th>\n",
              "      <th>V10</th>\n",
              "      <th>V11</th>\n",
              "      <th>V12</th>\n",
              "      <th>V13</th>\n",
              "      <th>V14</th>\n",
              "      <th>V15</th>\n",
              "      <th>V16</th>\n",
              "      <th>V17</th>\n",
              "      <th>V18</th>\n",
              "      <th>V19</th>\n",
              "      <th>V20</th>\n",
              "      <th>V21</th>\n",
              "      <th>V22</th>\n",
              "      <th>V23</th>\n",
              "      <th>V24</th>\n",
              "      <th>V25</th>\n",
              "      <th>V26</th>\n",
              "      <th>V27</th>\n",
              "      <th>V28</th>\n",
              "      <th>V29</th>\n",
              "      <th>V30</th>\n",
              "      <th>V31</th>\n",
              "      <th>V32</th>\n",
              "      <th>V33</th>\n",
              "      <th>V34</th>\n",
              "      <th>Class</th>\n",
              "    </tr>\n",
              "  </thead>\n",
              "  <tbody>\n",
              "    <tr>\n",
              "      <th>0</th>\n",
              "      <td>0.99539</td>\n",
              "      <td>-0.05889</td>\n",
              "      <td>0.85243</td>\n",
              "      <td>0.02306</td>\n",
              "      <td>0.83398</td>\n",
              "      <td>-0.37708</td>\n",
              "      <td>1.00000</td>\n",
              "      <td>0.03760</td>\n",
              "      <td>0.85243</td>\n",
              "      <td>-0.17755</td>\n",
              "      <td>0.59755</td>\n",
              "      <td>-0.44945</td>\n",
              "      <td>0.60536</td>\n",
              "      <td>-0.38223</td>\n",
              "      <td>0.84356</td>\n",
              "      <td>-0.38542</td>\n",
              "      <td>0.58212</td>\n",
              "      <td>-0.32192</td>\n",
              "      <td>0.56971</td>\n",
              "      <td>-0.29674</td>\n",
              "      <td>0.36946</td>\n",
              "      <td>-0.47357</td>\n",
              "      <td>0.56811</td>\n",
              "      <td>-0.51171</td>\n",
              "      <td>0.41078</td>\n",
              "      <td>-0.46168</td>\n",
              "      <td>0.21266</td>\n",
              "      <td>-0.34090</td>\n",
              "      <td>0.42267</td>\n",
              "      <td>-0.54487</td>\n",
              "      <td>0.18641</td>\n",
              "      <td>-0.45300</td>\n",
              "      <td>0</td>\n",
              "    </tr>\n",
              "    <tr>\n",
              "      <th>1</th>\n",
              "      <td>1.00000</td>\n",
              "      <td>-0.18829</td>\n",
              "      <td>0.93035</td>\n",
              "      <td>-0.36156</td>\n",
              "      <td>-0.10868</td>\n",
              "      <td>-0.93597</td>\n",
              "      <td>1.00000</td>\n",
              "      <td>-0.04549</td>\n",
              "      <td>0.50874</td>\n",
              "      <td>-0.67743</td>\n",
              "      <td>0.34432</td>\n",
              "      <td>-0.69707</td>\n",
              "      <td>-0.51685</td>\n",
              "      <td>-0.97515</td>\n",
              "      <td>0.05499</td>\n",
              "      <td>-0.62237</td>\n",
              "      <td>0.33109</td>\n",
              "      <td>-1.00000</td>\n",
              "      <td>-0.13151</td>\n",
              "      <td>-0.45300</td>\n",
              "      <td>-0.18056</td>\n",
              "      <td>-0.35734</td>\n",
              "      <td>-0.20332</td>\n",
              "      <td>-0.26569</td>\n",
              "      <td>-0.20468</td>\n",
              "      <td>-0.18401</td>\n",
              "      <td>-0.19040</td>\n",
              "      <td>-0.11593</td>\n",
              "      <td>-0.16626</td>\n",
              "      <td>-0.06288</td>\n",
              "      <td>-0.13738</td>\n",
              "      <td>-0.02447</td>\n",
              "      <td>1</td>\n",
              "    </tr>\n",
              "    <tr>\n",
              "      <th>2</th>\n",
              "      <td>1.00000</td>\n",
              "      <td>-0.03365</td>\n",
              "      <td>1.00000</td>\n",
              "      <td>0.00485</td>\n",
              "      <td>1.00000</td>\n",
              "      <td>-0.12062</td>\n",
              "      <td>0.88965</td>\n",
              "      <td>0.01198</td>\n",
              "      <td>0.73082</td>\n",
              "      <td>0.05346</td>\n",
              "      <td>0.85443</td>\n",
              "      <td>0.00827</td>\n",
              "      <td>0.54591</td>\n",
              "      <td>0.00299</td>\n",
              "      <td>0.83775</td>\n",
              "      <td>-0.13644</td>\n",
              "      <td>0.75535</td>\n",
              "      <td>-0.08540</td>\n",
              "      <td>0.70887</td>\n",
              "      <td>-0.27502</td>\n",
              "      <td>0.43385</td>\n",
              "      <td>-0.12062</td>\n",
              "      <td>0.57528</td>\n",
              "      <td>-0.40220</td>\n",
              "      <td>0.58984</td>\n",
              "      <td>-0.22145</td>\n",
              "      <td>0.43100</td>\n",
              "      <td>-0.17365</td>\n",
              "      <td>0.60436</td>\n",
              "      <td>-0.24180</td>\n",
              "      <td>0.56045</td>\n",
              "      <td>-0.38238</td>\n",
              "      <td>0</td>\n",
              "    </tr>\n",
              "    <tr>\n",
              "      <th>3</th>\n",
              "      <td>1.00000</td>\n",
              "      <td>-0.45161</td>\n",
              "      <td>1.00000</td>\n",
              "      <td>1.00000</td>\n",
              "      <td>0.71216</td>\n",
              "      <td>-1.00000</td>\n",
              "      <td>0.00000</td>\n",
              "      <td>0.00000</td>\n",
              "      <td>0.00000</td>\n",
              "      <td>0.00000</td>\n",
              "      <td>0.00000</td>\n",
              "      <td>0.00000</td>\n",
              "      <td>-1.00000</td>\n",
              "      <td>0.14516</td>\n",
              "      <td>0.54094</td>\n",
              "      <td>-0.39330</td>\n",
              "      <td>-1.00000</td>\n",
              "      <td>-0.54467</td>\n",
              "      <td>-0.69975</td>\n",
              "      <td>1.00000</td>\n",
              "      <td>0.00000</td>\n",
              "      <td>0.00000</td>\n",
              "      <td>1.00000</td>\n",
              "      <td>0.90695</td>\n",
              "      <td>0.51613</td>\n",
              "      <td>1.00000</td>\n",
              "      <td>1.00000</td>\n",
              "      <td>-0.20099</td>\n",
              "      <td>0.25682</td>\n",
              "      <td>1.00000</td>\n",
              "      <td>-0.32382</td>\n",
              "      <td>1.00000</td>\n",
              "      <td>1</td>\n",
              "    </tr>\n",
              "    <tr>\n",
              "      <th>4</th>\n",
              "      <td>1.00000</td>\n",
              "      <td>-0.02401</td>\n",
              "      <td>0.94140</td>\n",
              "      <td>0.06531</td>\n",
              "      <td>0.92106</td>\n",
              "      <td>-0.23255</td>\n",
              "      <td>0.77152</td>\n",
              "      <td>-0.16399</td>\n",
              "      <td>0.52798</td>\n",
              "      <td>-0.20275</td>\n",
              "      <td>0.56409</td>\n",
              "      <td>-0.00712</td>\n",
              "      <td>0.34395</td>\n",
              "      <td>-0.27457</td>\n",
              "      <td>0.52940</td>\n",
              "      <td>-0.21780</td>\n",
              "      <td>0.45107</td>\n",
              "      <td>-0.17813</td>\n",
              "      <td>0.05982</td>\n",
              "      <td>-0.35575</td>\n",
              "      <td>0.02309</td>\n",
              "      <td>-0.52879</td>\n",
              "      <td>0.03286</td>\n",
              "      <td>-0.65158</td>\n",
              "      <td>0.13290</td>\n",
              "      <td>-0.53206</td>\n",
              "      <td>0.02431</td>\n",
              "      <td>-0.62197</td>\n",
              "      <td>-0.05707</td>\n",
              "      <td>-0.59573</td>\n",
              "      <td>-0.04608</td>\n",
              "      <td>-0.65697</td>\n",
              "      <td>0</td>\n",
              "    </tr>\n",
              "  </tbody>\n",
              "</table>\n",
              "</div>"
            ],
            "text/plain": [
              "        V3       V4       V5       V6  ...      V32      V33      V34  Class\n",
              "0  0.99539 -0.05889  0.85243  0.02306  ... -0.54487  0.18641 -0.45300      0\n",
              "1  1.00000 -0.18829  0.93035 -0.36156  ... -0.06288 -0.13738 -0.02447      1\n",
              "2  1.00000 -0.03365  1.00000  0.00485  ... -0.24180  0.56045 -0.38238      0\n",
              "3  1.00000 -0.45161  1.00000  1.00000  ...  1.00000 -0.32382  1.00000      1\n",
              "4  1.00000 -0.02401  0.94140  0.06531  ... -0.59573 -0.04608 -0.65697      0\n",
              "\n",
              "[5 rows x 33 columns]"
            ]
          },
          "metadata": {
            "tags": []
          },
          "execution_count": 45
        }
      ]
    },
    {
      "cell_type": "markdown",
      "metadata": {
        "pycharm": {},
        "id": "eObPlmBl5pwG",
        "colab_type": "text"
      },
      "source": [
        "Note el desbalance de las clases ejecutando el siguiente código:"
      ]
    },
    {
      "cell_type": "code",
      "metadata": {
        "pycharm": {},
        "id": "Qum5C0qf5pwI",
        "colab_type": "code",
        "outputId": "04ddd933-f2e0-4873-a453-a6538b6b94e8",
        "colab": {
          "base_uri": "https://localhost:8080/",
          "height": 91
        }
      },
      "source": [
        "print(\"Distribucion de clases original\")\n",
        "data['Class'].value_counts()"
      ],
      "execution_count": 0,
      "outputs": [
        {
          "output_type": "stream",
          "text": [
            "Distribucion de clases original\n"
          ],
          "name": "stdout"
        },
        {
          "output_type": "execute_result",
          "data": {
            "text/plain": [
              "0    225\n",
              "1    126\n",
              "Name: Class, dtype: int64"
            ]
          },
          "metadata": {
            "tags": []
          },
          "execution_count": 46
        }
      ]
    },
    {
      "cell_type": "markdown",
      "metadata": {
        "id": "Ee168t5vWIqG",
        "colab_type": "text"
      },
      "source": [
        "Antes de hacer algo para tratar el desbalance entre las clases debemos antes dividir en train-test."
      ]
    },
    {
      "cell_type": "code",
      "metadata": {
        "id": "L88_th9fWaT2",
        "colab_type": "code",
        "colab": {}
      },
      "source": [
        "data_train, data_test, ytrain, ytest = train_test_split(data, data['Class'], test_size=0.2, stratify=data['Class'])"
      ],
      "execution_count": 0,
      "outputs": []
    },
    {
      "cell_type": "markdown",
      "metadata": {
        "id": "LaZWIUSvZ3ti",
        "colab_type": "text"
      },
      "source": [
        "Así queda la proporción de clases en el train después de dividir en train-test."
      ]
    },
    {
      "cell_type": "code",
      "metadata": {
        "id": "00j7PK-uZxJI",
        "colab_type": "code",
        "outputId": "1729d09a-958f-42a8-d64e-2fa0bd74cb01",
        "colab": {
          "base_uri": "https://localhost:8080/",
          "height": 73
        }
      },
      "source": [
        "ytrain.value_counts()"
      ],
      "execution_count": 0,
      "outputs": [
        {
          "output_type": "execute_result",
          "data": {
            "text/plain": [
              "0    179\n",
              "1    101\n",
              "Name: Class, dtype: int64"
            ]
          },
          "metadata": {
            "tags": []
          },
          "execution_count": 48
        }
      ]
    },
    {
      "cell_type": "markdown",
      "metadata": {
        "pycharm": {},
        "id": "tch2wO604a9N",
        "colab_type": "text"
      },
      "source": [
        "Ahora, usando el dataset anterior, aplicaremos **oversampling** y **subsampling** al train para que queden balanceados. Ejecute el siguiente código y note ahora que las clases están balanceadas. "
      ]
    },
    {
      "cell_type": "code",
      "metadata": {
        "id": "Z6IViZylYvXc",
        "colab_type": "code",
        "outputId": "77479d70-f273-4885-ebde-d5242e55dd5a",
        "colab": {
          "base_uri": "https://localhost:8080/",
          "height": 221
        }
      },
      "source": [
        "import numpy as np\n",
        "\n",
        "print(\"Distribución de clases usando (over/sub)sampling\")\n",
        "print()\n",
        "\n",
        "data_train = data_train.reset_index(drop=True)\n",
        "\n",
        "# oversampling sobre la clase 1\n",
        "idx = np.random.choice(data_train[data_train['Class'] == 1].index, size=78)\n",
        "data_oversampled = pd.concat([data_train, data_train.iloc[idx]])\n",
        "print(\"Data oversampled on class '1'\")\n",
        "print(data_oversampled['Class'].value_counts())\n",
        "print()\n",
        "\n",
        "\n",
        "# subsampling sobre la clase 0\n",
        "idx = np.random.choice(data_train.loc[data_train.Class == 0].index, size=78, replace=False)\n",
        "data_subsampled = data_train.drop(data_train.iloc[idx].index)\n",
        "print(\"Data subsampled on class '0'\")\n",
        "print(data_subsampled['Class'].value_counts())"
      ],
      "execution_count": 0,
      "outputs": [
        {
          "output_type": "stream",
          "text": [
            "Distribución de clases usando (over/sub)sampling\n",
            "\n",
            "Data oversampled on class '1'\n",
            "1    179\n",
            "0    179\n",
            "Name: Class, dtype: int64\n",
            "\n",
            "Data subsampled on class '0'\n",
            "1    101\n",
            "0    101\n",
            "Name: Class, dtype: int64\n"
          ],
          "name": "stdout"
        }
      ]
    },
    {
      "cell_type": "markdown",
      "metadata": {
        "pycharm": {},
        "id": "ty6J1yiN5pwR",
        "colab_type": "text"
      },
      "source": [
        "Para la siguiente pregunta, vamos a entrenar un árbol de decisión (`DecisionTreeClassifier`) sobre los 3 datasets por separado (**original**, con **oversampling** y con **subsampling**) y luego comparamos los resultados usando alguna métrica de evaluación.\n",
        "\n",
        "Ejecute el siguiente bloque para cargar los datos:"
      ]
    },
    {
      "cell_type": "code",
      "metadata": {
        "pycharm": {},
        "id": "l7C896GQ5pwS",
        "colab_type": "code",
        "colab": {}
      },
      "source": [
        "## ejecutar este código para preparar los datos\n",
        "from sklearn.metrics import classification_report\n",
        "\n",
        "# Preparando los data frames para ser compatibles con sklearn\n",
        "\n",
        "# datos test\n",
        "X_test = data_test[data_train.columns[:-1]] # todo hasta la penultima columna\n",
        "y_test = data_test[data_train.columns[-1]]  # la última columna\n",
        "\n",
        "\n",
        "# datos entrenamiento \"originales\"\n",
        "X_orig = data_train[data_train.columns[:-1]] \n",
        "y_orig = data_train[data_train.columns[-1]] \n",
        "\n",
        "# datos entrenamiento \"oversampleados\" \n",
        "X_over = data_oversampled[data_train.columns[:-1]]\n",
        "y_over = data_oversampled[data_train.columns[-1]]\n",
        "\n",
        "# datos entrenamiento \"subsampleados\"\n",
        "X_subs = data_subsampled[data_train.columns[:-1]]\n",
        "y_subs = data_subsampled[data_train.columns[-1]]"
      ],
      "execution_count": 0,
      "outputs": []
    },
    {
      "cell_type": "markdown",
      "metadata": {
        "pycharm": {},
        "id": "-BVDehRR5pwV",
        "colab_type": "text"
      },
      "source": [
        "## Pregunta 3.1\n",
        "\n",
        "Complete el código necesario para ejecutar el clasificador en cada uno de los tres casos. Emplee como datos de entrada lo del bloque anterior. Para cada caso entrene con el dataset correspondiente y evalue con el conjunto de test (será el mismo para los tres casos) obtenido con train_test_split sobre los datos originales. \n",
        "\n",
        "Muestre Precision, Recall y F1-score.\n"
      ]
    },
    {
      "cell_type": "markdown",
      "metadata": {
        "pycharm": {},
        "id": "QBTFjbdc5pwW",
        "colab_type": "text"
      },
      "source": [
        "### RESPUESTA PREGUNTA 3.1 (agregue código en el siguiente bloque)"
      ]
    },
    {
      "cell_type": "code",
      "metadata": {
        "pycharm": {},
        "id": "ynh3E-OG5pwX",
        "colab_type": "code",
        "outputId": "bab18fb3-4370-442b-c002-25009cc1ecf3",
        "colab": {
          "base_uri": "https://localhost:8080/",
          "height": 574
        }
      },
      "source": [
        "## RESPUESTA A PREGUNTA 3.1\n",
        "\n",
        "from sklearn.tree import DecisionTreeClassifier\n",
        "from sklearn.model_selection import train_test_split\n",
        "\n",
        "## Recuerde:\n",
        "##  - instanciar el clasificador con DecisionTreeClassifier()\n",
        "##  - entrenar con fit()\n",
        "##  - hacer las predicciones\n",
        "##  - Mostrar precision, recall y f1-score.\n",
        "\n",
        "\n",
        "# Aca esta el codigo usando el dataset: original \n",
        "print(\"ORIGINAL::::::::::\")\n",
        "clf_orig = DecisionTreeClassifier()\n",
        "\n",
        "clf_orig.fit(X_orig,y_orig)\n",
        "pred_orig = clf_orig.predict(X_test)\n",
        "print(classification_report(y_test, pred_orig))\n",
        "\n",
        "# Complete el resto para oversampling y subsampling \n",
        "\n",
        "\n",
        "print(\"OVERSAMPLING::::::::::\")\n",
        "\n",
        "clf_over = DecisionTreeClassifier()\n",
        "\n",
        "clf_over.fit(X_over,y_over)\n",
        "pred_over = clf_over.predict(X_test)\n",
        "print(classification_report(y_test, pred_over))\n",
        "\n",
        "print(\"SUBSAMPLING::::::::::\")\n",
        "\n",
        "\n",
        "clf_subs = DecisionTreeClassifier()\n",
        "\n",
        "clf_subs.fit(X_subs,y_subs)\n",
        "pred_subs = clf_subs.predict(X_test)\n",
        "print(classification_report(y_test, pred_subs))\n",
        "\n"
      ],
      "execution_count": 0,
      "outputs": [
        {
          "output_type": "stream",
          "text": [
            "ORIGINAL::::::::::\n",
            "              precision    recall  f1-score   support\n",
            "\n",
            "           0       0.93      0.91      0.92        46\n",
            "           1       0.85      0.88      0.86        25\n",
            "\n",
            "    accuracy                           0.90        71\n",
            "   macro avg       0.89      0.90      0.89        71\n",
            "weighted avg       0.90      0.90      0.90        71\n",
            "\n",
            "OVERSAMPLING::::::::::\n",
            "              precision    recall  f1-score   support\n",
            "\n",
            "           0       0.86      0.91      0.88        46\n",
            "           1       0.82      0.72      0.77        25\n",
            "\n",
            "    accuracy                           0.85        71\n",
            "   macro avg       0.84      0.82      0.83        71\n",
            "weighted avg       0.84      0.85      0.84        71\n",
            "\n",
            "SUBSAMPLING::::::::::\n",
            "              precision    recall  f1-score   support\n",
            "\n",
            "           0       0.90      0.83      0.86        46\n",
            "           1       0.72      0.84      0.78        25\n",
            "\n",
            "    accuracy                           0.83        71\n",
            "   macro avg       0.81      0.83      0.82        71\n",
            "weighted avg       0.84      0.83      0.83        71\n",
            "\n"
          ],
          "name": "stdout"
        }
      ]
    },
    {
      "cell_type": "markdown",
      "metadata": {
        "pycharm": {},
        "id": "JQ3zmwB75pwZ",
        "colab_type": "text"
      },
      "source": [
        "## Pregunta 3.2\n",
        "\n",
        "¿Cuál estrategia de sampling entrega mejores resultados para la clase minoritaria? \n",
        "\n"
      ]
    },
    {
      "cell_type": "markdown",
      "metadata": {
        "pycharm": {},
        "id": "gmpKAwxJ5pwa",
        "colab_type": "text"
      },
      "source": [
        "### RESPUESTA A PREGUNTA 3.2\n",
        "\n",
        "La mejor estrategia según el experimento hecho fue utilizando la estrategia de oversampling, que agrega datos extras a la clase minoritaria, pero obteniéndolos del mismo conjunto de training.\n"
      ]
    },
    {
      "cell_type": "markdown",
      "metadata": {
        "pycharm": {},
        "id": "1fdbzorQ5pwb",
        "colab_type": "text"
      },
      "source": [
        "## Pregunta 3.3\n",
        "\n",
        "Indique una desventaja de usar oversampling y una desventaja de usar subsampling en clasificación.\n"
      ]
    },
    {
      "cell_type": "markdown",
      "metadata": {
        "pycharm": {},
        "id": "Y89YN06W5pwc",
        "colab_type": "text"
      },
      "source": [
        "### RESPUESTA A PREGUNTA 3.3\n",
        "\n",
        "Oversampling: A pesar de que esta estrategia entregó los mejores resultados, la desventaja es que está utilizando datos del mismo conjunto de entrenamiento para balancear la cantidad de clases. Esto provoca que el modelo pueda tener probemas de generalización, como un overfitting probando con nuevos datos.\n",
        "\n",
        "\n",
        "Subsampling: La desventaja de esto es que al sacar datos para el entrenamiento puede que el modelo también tenga problemas de generalización como underfitting, debido a que en el entrenamiento se saco una cantidad significativa de datos representativos de la clase mayoritaria. \n",
        "\n"
      ]
    }
  ]
}