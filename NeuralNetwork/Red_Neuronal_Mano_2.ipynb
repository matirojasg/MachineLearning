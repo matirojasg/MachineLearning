{
  "nbformat": 4,
  "nbformat_minor": 0,
  "metadata": {
    "kernelspec": {
      "name": "python3",
      "display_name": "Python 3"
    },
    "language_info": {
      "codemirror_mode": {
        "name": "ipython",
        "version": 3
      },
      "file_extension": ".py",
      "mimetype": "text/x-python",
      "name": "python",
      "nbconvert_exporter": "python",
      "pygments_lexer": "ipython3",
      "version": "3.6.8"
    },
    "colab": {
      "name": "Tarea 2 deep learning Matias Rojas",
      "provenance": [],
      "collapsed_sections": []
    },
    "accelerator": "GPU"
  },
  "cells": [
    {
      "cell_type": "code",
      "metadata": {
        "id": "9rN1E2MUXDSn",
        "colab_type": "code",
        "colab": {}
      },
      "source": [
        "import torch\n"
      ],
      "execution_count": 0,
      "outputs": []
    },
    {
      "cell_type": "markdown",
      "metadata": {
        "id": "fg8i3agyXDSr",
        "colab_type": "text"
      },
      "source": [
        "# Parte 1: Preliminares: funciones de activación y función de error\n"
      ]
    },
    {
      "cell_type": "markdown",
      "metadata": {
        "id": "NbzcMAkOXDSr",
        "colab_type": "text"
      },
      "source": [
        "## 1a) Derivando las funciones de activación"
      ]
    },
    {
      "cell_type": "markdown",
      "metadata": {
        "id": "pcybEP7fXDSs",
        "colab_type": "text"
      },
      "source": [
        "Derivadas de las funciones de activación. Omití el desarrollo puesto que no son de mayor complejidad estas derivadas.\n",
        "\n",
        "<br>\n",
        "\\begin{equation}\n",
        "\\frac{\\partial\\ \\text{relu}(x)}{\\partial x} = \n",
        "\\begin{cases}\n",
        "1 & \\text{si $x$ > 0}\\\\\n",
        "0 & \\text{si $x$ <= 0}\n",
        "\\end{cases}\n",
        "\\end{equation}\n",
        "<br>\n",
        "\n",
        "\\begin{eqnarray}\n",
        "\\frac{\\partial\\ \\text{swish}(x, \\beta)}{\\partial x} &=& \\beta \\cdot \\text{swish}(x,\\beta) \\cdot (1 - \\text{sigmoid}(\\beta x)) + \\text{sigmoid}(\\beta x)\\\\\n",
        "\\frac{\\partial\\ \\text{swish}(x, \\beta)}{\\partial \\beta} &=&  \\text{swish}(x,\\beta) \\cdot (x - \\text{swish}(x,\\beta)) \\\\\n",
        "\\end{eqnarray}\n",
        "<br>\n",
        "\n",
        "\\begin{eqnarray}\n",
        "\\frac{\\partial\\ \\text{celu}(x, \\alpha)}{\\partial x} & = & \\begin{cases}\n",
        "exp (\\frac{x}{\\alpha}) & \\text{si $x$ < 0}\\\\\n",
        "1 & \\text{si $x$ >= 0}\n",
        "\\end{cases} \\\\\n",
        "\\frac{\\partial\\ \\text{celu}(x, \\alpha)}{\\partial \\alpha} & = & \\begin{cases}\n",
        "exp (\\frac{x}{\\alpha}) \\cdot (1-\\frac{x}{\\alpha}) - 1  & \\text{si $x$ < 0}\\\\\n",
        "0 & \\text{si $x$ >= 0}\n",
        "\\end{cases}\\\\\n",
        "\\end{eqnarray}\n"
      ]
    },
    {
      "cell_type": "markdown",
      "metadata": {
        "id": "ifPp_c1eXDSt",
        "colab_type": "text"
      },
      "source": [
        "## 1b) Entropía Cruzada"
      ]
    },
    {
      "cell_type": "code",
      "metadata": {
        "id": "w4wXj3AUXDSu",
        "colab_type": "code",
        "colab": {}
      },
      "source": [
        "# Definición de la función de pérdida para la red neuronal.\n",
        "\n",
        "def CELoss(y_pred, y, epsilon=1e-7):\n",
        "  N = y_pred.size()[0]\n",
        "  y_pred.clamp_(epsilon, 1-epsilon)\n",
        "  result = torch.sum(y*torch.log(1/y_pred))/N\n",
        "  return result\n",
        "\n",
        "\n",
        "\n",
        "  "
      ],
      "execution_count": 0,
      "outputs": []
    },
    {
      "cell_type": "markdown",
      "metadata": {
        "id": "EwedMCZjXDSw",
        "colab_type": "text"
      },
      "source": [
        "# Parte 2: Más derivadas y back propagation"
      ]
    },
    {
      "cell_type": "markdown",
      "metadata": {
        "id": "nftKKxlBXDSx",
        "colab_type": "text"
      },
      "source": [
        "## 2a) Derivando la última capa"
      ]
    },
    {
      "cell_type": "markdown",
      "metadata": {
        "id": "WDBD96xWXDSx",
        "colab_type": "text"
      },
      "source": [
        "Escribe tu cálculo acá.\n",
        "<br>\n",
        "\\begin{eqnarray}\n",
        "\\frac{\\partial \\cal{L}}{\\partial u^{(L+1)}} = \\frac{\\partial \\cal{L}}{\\partial \\hat{y}} \\cdot \\frac{\\partial \\hat{y}}{\\partial u^{(L+1)}} \\\\\n",
        "\\frac{\\partial \\cal{L}}{\\partial u^{(L+1)}_{ij}} = \\frac{\\partial \\cal{L}}{\\partial \\hat{y}_{kl}} \\cdot \\frac{\\partial \\hat{y}_{kl}}{\\partial u^{(L+1)}_{ij}} \\\\\n",
        "\\frac{\\partial \\cal{L}}{\\partial \\hat{y}_{kl}}=\\frac{-1}{N} \\cdot  \\frac{y_{kl}}{\\hat{y}_{kl}}\n",
        "\\end{eqnarray}\n",
        "\n",
        "Pero para que esto tenga sentido se necesita que k=i, ya que en caso contrario será 0 la derivada:\n",
        "\n",
        "\\begin{eqnarray}\n",
        "\\frac{\\partial \\hat{y}_{il}}{\\partial u^{(L+1)}_{ij}} = \\begin{cases}\n",
        "\\hat{y}_{il}(1-\\hat{y}_{ij}), & \\text{si } k = i, l = j\\\\\n",
        "-\\hat{y}_{ij}\\hat{y}_{il}, & \\text{si } k = i , l \\not= j\\\\\n",
        "0, & \\text{si } k\\not=i \\\\\n",
        "\\end{cases}\n",
        "\\end{eqnarray}\n",
        "\n",
        "\n",
        "\\begin{eqnarray}\n",
        "\\frac{\\partial \\cal{L}}{\\partial u^{(L+1)}_{ij}} = \\begin{cases}\n",
        "\\frac{-1}{N} {y}_{il}(1-\\hat{y}_{ij}), & \\text{si } l=j\\\\\n",
        "\\frac{1}{N} {y}_{il}\\hat{y}_{ij}, & \\text{si } l \\not= j \\\\\n",
        "\\end{cases}\n",
        "\\end{eqnarray}\n",
        "\n",
        "\n",
        "\\begin{eqnarray}\n",
        "\\frac{\\partial \\cal{L}}{\\partial u^{(L+1)}_{ij}} = \\begin{cases}\n",
        "\\frac{-1}{N} y_{il}(1-\\hat{y}_{ij}), & \\text{si } l=j\\\\\n",
        "\\frac{1}{N} y_{il}\\hat{y}_{ij}, & \\text{si } l \\not= j \\\\\n",
        "\\end{cases}\n",
        "\\end{eqnarray}\n",
        "\n",
        "\n",
        "\\begin{eqnarray}\n",
        "\\frac{\\partial \\cal{L}}{\\partial u^{(L+1)}_{ij}} = \\begin{cases}\n",
        "\\frac{y_{il}\\hat{y}_{ij}}{N} - \\frac{y_{il}}{N} , & \\text{si } l=j\\\\\n",
        "\\frac{y_{il}\\hat{y}_{ij}}{N} , & \\text{si } l \\not= j \\\\\n",
        "\\end{cases}\n",
        "\\end{eqnarray}\n",
        "\n",
        "\\begin{eqnarray}\n",
        "\\frac{\\partial \\cal{L}}{\\partial u^{L+1}_{ij}} = (\\Sigma_{l} \\frac{y_{il}\\hat{y}_{ij}}{N})- \\frac{y_{ij}}{N} \\\\\n",
        "\\frac{\\partial \\cal{L}}{\\partial u^{L+1}_{ij}} = \\frac{\\hat{y}_{ij}-y_{ij}}{N} \\\\\n",
        "\\frac{\\partial \\cal{L}}{\\partial u^{(L+1)}}= \\frac{\\hat{y}-y}{N}\n",
        "\\end{eqnarray}\n",
        "\n",
        "\n",
        "\n",
        "\n",
        "<br>"
      ]
    },
    {
      "cell_type": "markdown",
      "metadata": {
        "id": "Nzp5SWKBXDSy",
        "colab_type": "text"
      },
      "source": [
        "## 2b) Derivando la última capa (continuación)"
      ]
    },
    {
      "cell_type": "markdown",
      "metadata": {
        "id": "n9cubvpeXDSz",
        "colab_type": "text"
      },
      "source": [
        "Estas tres derivadas son análogas a las de la clase:\n",
        "<br>\n",
        "\n",
        "\\begin{equation}\n",
        "\\frac{\\partial\\cal L}{\\partial U} = h^{(L)}_{ji}\\frac{\\partial \\cal{L}}{\\partial u^{(L+1)}_{ik}} =  (h^{(L)})^T\\frac{\\partial \\cal{L}}{\\partial u^{(L+1)}} \\\\\n",
        "\\end{equation}\n",
        "<br>\n",
        "\n",
        "\\begin{equation}\n",
        "\\frac{\\partial\\cal L}{\\partial c} = sum(\\frac{\\partial \\cal{L}}{\\partial u^{(L+1)}_{ij}}) \\\\\n",
        "\\end{equation}\n",
        "<br>\n",
        "\n",
        "\n",
        "\n",
        "\\begin{equation}\n",
        "\\frac{\\partial\\cal L}{\\partial h^{(L)}} = \\frac{\\partial \\cal{L}}{\\partial u^{(L)}_{ij}} U_{jk} = \\frac{\\partial \\cal{L}}{\\partial u^{(L)}_{ij}} U_{jk}^{T} \\\\\n",
        "\\end{equation}\n",
        "<br>\n",
        "(No es necesario que repitas el código que era solo de ayuda para chequear las dimensiones.)"
      ]
    },
    {
      "cell_type": "markdown",
      "metadata": {
        "id": "1WNYoTIHXDS0",
        "colab_type": "text"
      },
      "source": [
        "## 2c) Derivando desde las capas escondidas"
      ]
    },
    {
      "cell_type": "markdown",
      "metadata": {
        "id": "vz7TChQ8XDS0",
        "colab_type": "text"
      },
      "source": [
        "\n",
        "<br>\n",
        "\n",
        "Para el caso de relu: \n",
        "\n",
        "\\begin{equation}\n",
        "\\frac{\\partial\\cal L}{\\partial u^{(k)}} = \\frac{\\partial L}{\\partial h^{(K)}} \\frac{\\partial h^{(K)}}{\\partial u^{(K)}} \n",
        "= \\frac{\\partial L}{\\partial h^{(K)}} \\frac{\\partial f(u^{(K)})}{\\partial u^{(K)}} \\\\\n",
        "\\frac{\\partial\\cal L}{\\partial u^{(k)}} = \\frac{\\partial L}{\\partial h^{(K)}} 1_{\\{u^{(K)}>0\\}} \\\\\n",
        "\\frac{\\partial L}{\\partial W^{(K)}} =  (h^{(K-1)})^T\\frac{\\partial L}{\\partial h^{(K)}} 1_{\\{u^{(K)}>0\\}}\\\\\n",
        "\\frac{\\partial L}{\\partial b^{(K)}} = sum(\\frac{\\partial L}{\\partial h^{(K)}} 1_{\\{u^{(K)}>0\\}}) \\\\\n",
        "\\frac{\\partial L}{\\partial h^{(K-1)}} =  \\frac{\\partial L}{\\partial h^{(K)}} 1_{\\{u^{(K)}>0\\}} (W^{(K)})^T \\\\\n",
        "\\end{equation}\n",
        "<br>\n",
        " \n",
        " \n",
        " Para el caso de swish:\n",
        " \\begin{equation}\n",
        " \\frac{\\partial\\cal L}{\\partial u^{(k)}} = \\frac{\\partial L}{\\partial h^{(K)}} \\cdot \\beta \\cdot \\text{swish}(u^{(k)},\\beta) \\cdot (1 - \\text{sigmoid}(\\beta u^{(k)})) + \\text{sigmoid}(\\beta u^{(k)})\\\\\n",
        " \\frac{\\partial L}{\\partial W^{(K)}} =  (h^{(K-1)})^T\\frac{\\partial L}{\\partial h^{(K)}} \\cdot \\beta \\cdot \\text{swish}(u^{(k)},\\beta) \\cdot (1 - \\text{sigmoid}(\\beta u^{(k)})) + \\text{sigmoid}(\\beta u^{(k)})\\\\\n",
        "\\frac{\\partial L}{\\partial b^{(K)}} = sum(\\frac{\\partial L}{\\partial h^{(K)}} \\cdot \\beta \\cdot \\text{swish}(u^{(k)},\\beta) \\cdot (1 - \\text{sigmoid}(\\beta u^{(k)})) + \\text{sigmoid}(\\beta u^{(k)})) \\\\\n",
        "\\frac{\\partial L}{\\partial h^{(K-1)}} =  (\\frac{\\partial L}{\\partial h^{(K)}} \\cdot \\beta \\cdot \\text{swish}(u^{(k)},\\beta) \\cdot (1 - \\text{sigmoid}(\\beta u^{(k)})) + \\text{sigmoid}(\\beta u^{(k)})) (W^{(K)})^T \\\\\n",
        "\\end{equation}\n",
        "\n",
        " Para el caso de celu: \n",
        "\\begin{equation}\n",
        "\\frac{\\partial\\cal L}{\\partial u^{(k)}} =\n",
        "\\begin{cases}\n",
        "\\frac{\\partial L}{\\partial h^{(K)}} \\cdot exp (\\frac{u^{(k)}}{\\alpha}) & \\text{si $u^{(k)}$ < 0}\\\\\n",
        "\\frac{\\partial L}{\\partial h^{(K)}} & \\text{si $u^{(k)}$ >= 0}\n",
        "\\end{cases}\n",
        "\\end{equation}\n",
        "\n",
        "\\begin{equation}\n",
        "\\frac{\\partial\\cal L}{\\partial W^{(k)}} =\n",
        "\\begin{cases}\n",
        "(h^{(K-1)})^T \\cdot \\frac{\\partial L}{\\partial h^{(K)}} \\cdot exp (\\frac{u^{(k)}}{\\alpha}) & \\text{si $u^{(k)}$ < 0}\\\\\n",
        "(h^{(K-1)})^T \\cdot \\frac{\\partial L}{\\partial h^{(K)}} & \\text{si $u^{(k)}$ >= 0}\n",
        "\\end{cases}\n",
        "\\end{equation}\n",
        "\n",
        "\\begin{equation}\n",
        "\\frac{\\partial\\cal L}{\\partial b^{(k)}} =\n",
        "\\begin{cases}\n",
        "sum(\\frac{\\partial L}{\\partial h^{(K)}} \\cdot exp (\\frac{u^{(k)}}{\\alpha})) & \\text{si $u^{(k)}$ < 0})\\\\\n",
        "sum(\\frac{\\partial L}{\\partial h^{(K)}}) & \\text{si $u^{(k)}$ >= 0}\\\\\n",
        "\\end{cases}\n",
        "\\end{equation}\n",
        "\n",
        "\\begin{equation}\n",
        "\\frac{\\partial\\cal L}{\\partial h^{(k-1)}} =\n",
        "\\begin{cases}\n",
        "\\frac{\\partial L}{\\partial h^{(K)}} \\cdot exp (\\frac{u^{(k)}}{\\alpha})(W^{(K)})^T & \\text{si $u^{(k)}$ < 0}\\\\\n",
        "\\frac{\\partial L}{\\partial h^{(K)}}(W^{(K)})^T & \\text{si $u^{(k)}$ >= 0}\n",
        "\\end{cases}\n",
        "\\end{equation}\n",
        " "
      ]
    },
    {
      "cell_type": "markdown",
      "metadata": {
        "id": "0n29s-6zXDS1",
        "colab_type": "text"
      },
      "source": [
        "# Parte 3: Backpropagation en nuestra red"
      ]
    },
    {
      "cell_type": "markdown",
      "metadata": {
        "id": "do04-nhfXDS2",
        "colab_type": "text"
      },
      "source": [
        "## 3a) Método `backward` + parte 3b) BONUS"
      ]
    },
    {
      "cell_type": "code",
      "metadata": {
        "id": "io49TQYRW3sC",
        "colab_type": "code",
        "colab": {}
      },
      "source": [
        "# Definición de la función sigmoide \n",
        "\n",
        "def sig(T):\n",
        "  return torch.reciprocal(1 + torch.exp(-1 * T))\n",
        "\n",
        "# Definición de la tangente hiperbólica como ejemplo de función de activación.\n",
        "\n",
        "def tanh(T):\n",
        "  E = torch.exp(T)\n",
        "  e = torch.exp(-1 * T)\n",
        "  return (E - e) * torch.reciprocal(E + e)\n",
        "\n",
        "# Definición de la función relu.\n",
        "\n",
        "def relu(T):\n",
        "  return torch.clamp(T,min=0)\n",
        "\n",
        "#Definición de la función swish.\n",
        "\n",
        "def swish(T, beta=1.):\n",
        "  return T*sig(beta*T)\n",
        "\n",
        "#Definición de la función celu.\n",
        "\n",
        "def celu(T, alpha=1.):\n",
        "  T[T<0]=alpha*(torch.exp(T[T<0]/alpha) - 1)\n",
        "  return T\n",
        "\n",
        "\n",
        "\n",
        "def softmax(T, dim, estable=True):\n",
        "  if estable:\n",
        "    max = torch.max(T,dim,keepdim=True)[0]\n",
        "    num = torch.exp(T-max)\n",
        "    den = torch.sum(num,dim,keepdim=True)\n",
        "    result = torch.div(num,den)\n",
        "  else:\n",
        "    num = torch.exp(T)\n",
        "    den = torch.sum(num,dim,keepdim=True)\n",
        "    result = torch.div(num,den)\n",
        "  return result\n",
        "\n",
        "\n",
        "\n"
      ],
      "execution_count": 0,
      "outputs": []
    },
    {
      "cell_type": "code",
      "metadata": {
        "id": "ytN2y-FMXDS3",
        "colab_type": "code",
        "colab": {}
      },
      "source": [
        "# Clase asociada a la red neuronal\n",
        "\n",
        "class FFNN(torch.nn.Module):\n",
        "  def __init__(self, F, l_h, l_a, C, input=None):\n",
        "    super(FFNN, self).__init__()\n",
        "    self.listfunctions = l_a\n",
        "    self.nhiddenlayers = len(l_h)\n",
        "    self.weight = [0]*(self.nhiddenlayers+1)\n",
        "    self.bias = [0]*(self.nhiddenlayers+1)\n",
        "    self.parameterList = torch.nn.ParameterList([])\n",
        "    self.input = input \n",
        "    self.F = F\n",
        "    self.U = None\n",
        "    self.c = None \n",
        "    self.hcache = None\n",
        "    self.ucache = None\n",
        "    \n",
        "    # Caso en que se entregan parámetros predefinidos para MNIST.\n",
        "    if input!=None:\n",
        "      for i in range(0,len(self.input[0])-1):\n",
        "        self.weight[i]=self.input[0][i]\n",
        "        self.bias[i]=self.input[1][i]\n",
        "        self.parameterList.append(torch.nn.Parameter(self.weight[i]*1))  \n",
        "        self.parameterList.append(torch.nn.Parameter(self.bias[i]))\n",
        "      self.U = self.input[0][-1]\n",
        "      self.c = self.input[1][-1]\n",
        "      self.parameterList.append(torch.nn.Parameter(self.U))\n",
        "      self.parameterList.append(torch.nn.Parameter(self.c))  \n",
        "    \n",
        "    # Se generan parámetros al azar\n",
        "    else:\n",
        "      bias = [0]*(self.nhiddenlayers) \n",
        "      weight = [0]*(self.nhiddenlayers)\n",
        "      bias[0] = torch.zeros(l_h[0])\n",
        "      weight[0] = torch.rand(F,l_h[0]) \n",
        "      self.parameterList.append(torch.nn.Parameter(weight[0]))\n",
        "      self.parameterList.append(torch.nn.Parameter(bias[0]))\n",
        "      \n",
        "      for i in range(1,self.nhiddenlayers):\n",
        "        bias[i] = torch.zeros(l_h[i])\n",
        "        weight[i] = torch.randn(l_h[i-1],l_h[i])\n",
        "        self.parameterList.append(torch.nn.Parameter(weight[i]))\n",
        "        self.parameterList.append(torch.nn.Parameter(bias[i]))\n",
        "      self.weight = weight\n",
        "      self.bias = bias\n",
        "      self.c = torch.zeros(C)\n",
        "      self.U = torch.randn(l_h[self.nhiddenlayers-1],C)\n",
        "      self.parameterList.append(torch.nn.Parameter(self.U))\n",
        "      self.parameterList.append(torch.nn.Parameter(self.c))\n",
        "\n",
        "  \n",
        "  \n",
        "  def forward(self, x):\n",
        "    # Caché a utilizar en el backward\n",
        "    hcache = [None]*(self.nhiddenlayers)\n",
        "    ucache = [None]*(self.nhiddenlayers)\n",
        "    x = x.view(-1,self.F)\n",
        "    ucache[0] = x.mm(self.parameterList[0]).add(self.parameterList[1])\n",
        "    hcache[0] = self.listfunctions[0](ucache[0])\n",
        "    for i in range(1,self.nhiddenlayers):\n",
        "      a = 2*i\n",
        "      ucache[i] = hcache[i-1].mm(self.parameterList[a]).add(self.parameterList[a+1])\n",
        "      hcache[i] = self.listfunctions[i](ucache[i])\n",
        "    self.ucache = ucache\n",
        "    self.hcache = hcache\n",
        "    y = softmax(hcache[self.nhiddenlayers-1].mm(self.parameterList[-2]).add(self.parameterList[-1]),1)  \n",
        "    return y\n",
        "\n",
        "  # nuevo código Tarea 2\n",
        "  def backward(self, x, y, y_pred):\n",
        "    # Creo todos los gradientes necesarios\n",
        "    x=x.view(-1,self.F)\n",
        "    dL_du = [None]*(self.nhiddenlayers+1)\n",
        "    dL_dW = [None]*(self.nhiddenlayers+1)\n",
        "    dL_db = [None]*(self.nhiddenlayers+1)\n",
        "    dL_dh = [None]*(self.nhiddenlayers)\n",
        "    grad = []                     # Lista donde se guardarán los gradientes.\n",
        "    N = x.size()[0]       \n",
        "    U = self.parameterList[-2]\n",
        "    c = self.parameterList[-1]  \n",
        "    dL_duL = y_pred/N -y/N\n",
        "    dL_du[self.nhiddenlayers] = dL_duL\n",
        "    dL_dU = self.hcache[self.nhiddenlayers-1].t() @ dL_duL\n",
        "    dL_dW[self.nhiddenlayers] = dL_dU \n",
        "    dL_dc = torch.sum(dL_duL,0) \n",
        "    dL_db[self.nhiddenlayers] = dL_dc \n",
        "    dL_dhL = dL_duL @ U.t()\n",
        "    dL_dh[self.nhiddenlayers-1] = dL_dhL\n",
        "    grad+=[dL_db[self.nhiddenlayers]]\n",
        "    grad+=[dL_dW[self.nhiddenlayers]]\n",
        "    \n",
        "\n",
        "    for i in range(self.nhiddenlayers-1,-1,-1):\n",
        "      if(self.listfunctions[i]==sig):\n",
        "        dL_du[i] = dL_dh[i] * sig(self.ucache[i])*(1-sig(self.ucache[i]))\n",
        "      \n",
        "      elif(self.listfunctions[i]==tanh):\n",
        "        dL_du[i] = dL_dh[i] * (1-tanh(self.ucache[i])**2)\n",
        "        \n",
        "      elif(self.listfunctions[i]==swish):\n",
        "        dL_du[i] = dL_dh[i] * (sig(self.ucache[i]) + swish(self.ucache[i])*(1-sig(self.ucache[i])))\n",
        "      \n",
        "      elif(self.listfunctions[i]==relu):\n",
        "        a = self.ucache[i]\n",
        "        a[a>=0]=1\n",
        "        a[a<0]=0\n",
        "        dL_du[i] = dL_dh[i].float()*a.float()\n",
        "\n",
        "      elif(self.listfunctions[i]==celu):\n",
        "        b = self.ucache[i]\n",
        "        b[b>=0] = 1\n",
        "        b[b<0]= torch.exp(b[b<0]).float()\n",
        "        dL_du[i] = dL_dh[i].float()*b\n",
        "       \n",
        "      if i==0:\n",
        "        dL_dW[i] = x.t() @ dL_du[i]\n",
        "      else:\n",
        "        dL_dW[i] = self.hcache[i-1].t() @ dL_du[i]\n",
        "      pesos = 2*i\n",
        "      dL_dh[i-1] = dL_du[i] @ self.parameterList[pesos].t()\n",
        "      dL_db[i] = torch.sum(dL_du[i],0)\n",
        "      grad+=[dL_db[i]]\n",
        "      grad+=[dL_dW[i]]\n",
        "      \n",
        "\n",
        "    params = []\n",
        "    for p,q in self.named_parameters():\n",
        "      params.append(q)\n",
        "    params2 = reversed(params)\n",
        "    \n",
        "    for p,q in zip(params2,grad):\n",
        "      p.grad = q\n",
        "    \n"
      ],
      "execution_count": 0,
      "outputs": []
    },
    {
      "cell_type": "markdown",
      "metadata": {
        "id": "s6_7qOkAlcTX",
        "colab_type": "text"
      },
      "source": [
        "## 3c) Opcional: Chequeo de gradiente"
      ]
    },
    {
      "cell_type": "code",
      "metadata": {
        "id": "AjfsSKLIlgKj",
        "colab_type": "code",
        "colab": {}
      },
      "source": [
        ""
      ],
      "execution_count": 0,
      "outputs": []
    },
    {
      "cell_type": "code",
      "metadata": {
        "id": "LqFESz7mV5ZK",
        "colab_type": "code",
        "colab": {}
      },
      "source": [
        ""
      ],
      "execution_count": 0,
      "outputs": []
    },
    {
      "cell_type": "markdown",
      "metadata": {
        "id": "SDSYiQQ6nkjX",
        "colab_type": "text"
      },
      "source": [
        "# Parte 4: Descenso de gradiente y optimización"
      ]
    },
    {
      "cell_type": "markdown",
      "metadata": {
        "id": "yqBwusuXnsjO",
        "colab_type": "text"
      },
      "source": [
        "## 4a) Descenso de gradiente (estocástico)"
      ]
    },
    {
      "cell_type": "code",
      "metadata": {
        "id": "tId-cHk7ntDW",
        "colab_type": "code",
        "colab": {}
      },
      "source": [
        "\n",
        "class SGD():\n",
        "  def __init__(self, parameters, lr):\n",
        "    self.lr = lr\n",
        "    self.parameters = parameters\n",
        "    \n",
        "    \n",
        "  def step(self):\n",
        "    for p in self.parameters():\n",
        "      p.data -= self.lr*p.grad\n",
        "  \n",
        "  \n",
        "  \n",
        " "
      ],
      "execution_count": 0,
      "outputs": []
    },
    {
      "cell_type": "markdown",
      "metadata": {
        "id": "wy0KFSX4nzP0",
        "colab_type": "text"
      },
      "source": [
        "## 4b) Datos para carga"
      ]
    },
    {
      "cell_type": "code",
      "metadata": {
        "id": "bByG7kXlnwAQ",
        "colab_type": "code",
        "colab": {}
      },
      "source": [
        "from torch.utils.data import Dataset, DataLoader\n",
        "import random\n",
        "# Aquí tu código.\n",
        "# Tu clase debiera verse así\n",
        "class RandomDataset(Dataset):\n",
        "  def __init__(self, N, F, C):\n",
        "    self.largo = N\n",
        "    inputsTraining = torch.randn(N,F)\n",
        "    outputsTraining= torch.zeros(N,C)\n",
        "    for i in range(0,N):\n",
        "      claserandom = random.randint(0,C-1)\n",
        "      outputsTraining[i][claserandom] = 1  \n",
        "    self.inputsTraining = inputsTraining\n",
        "    self.outputsTraining = outputsTraining\n",
        "    \n",
        "  def __len__(self):\n",
        "    return self.largo\n",
        "  \n",
        "  def __getitem__(self, i):\n",
        "    return self.inputsTraining[i],self.outputsTraining[i]\n",
        "  \n",
        "\n",
        "  \n",
        "  \n",
        "  \n",
        "  "
      ],
      "execution_count": 0,
      "outputs": []
    },
    {
      "cell_type": "markdown",
      "metadata": {
        "id": "2-q8vJOMn3AA",
        "colab_type": "text"
      },
      "source": [
        "## 4c) Optimizando los parámetros de la red para datos al azar"
      ]
    },
    {
      "cell_type": "code",
      "metadata": {
        "id": "Ap0AKJijn5DY",
        "colab_type": "code",
        "outputId": "02281f7b-6a40-43ff-c9f1-acc237ca9155",
        "colab": {
          "base_uri": "https://localhost:8080/",
          "height": 35
        }
      },
      "source": [
        "import time\n",
        "import sys \n",
        "def entrenar_FFNN(red, dataset, optimizador, epochs=1, batch_size=1, device='cuda'):\n",
        "  red.to(device)\n",
        "  data = DataLoader(dataset, batch_size, shuffle=True)\n",
        "  perdida = []\n",
        "  tiempo_epochs = 0\n",
        "  for e in range(1,epochs+1): \n",
        "    correctos = 0\n",
        "    inicio_epoch = time.clock()\n",
        "    for x,y in data:   \n",
        "      x, y = x.to(device), y.to(device)\n",
        "      y_pred = red.forward(x)      \n",
        "      red.backward(x,y,y_pred)\n",
        "      L = CELoss(y_pred, y)\n",
        "      optimizador.step()\n",
        "      \n",
        "    tiempo_epochs += time.clock() - inicio_epoch\n",
        "    \n",
        "    if e % 1 == 0:\n",
        "        # Calcula la certeza de las predicciones sobre todo el conjunto\n",
        "        X = dataset.inputsTraining.to(device)\n",
        "        Y = dataset.outputsTraining.to(device)\n",
        "\n",
        "        # Predice usando la red\n",
        "        Y_PRED = red.forward(X)\n",
        "\n",
        "        # Calcula la pérdida de todo el conjunto\n",
        "        L_total = CELoss(Y_PRED, Y).item()\n",
        "        correctos = torch.sum(Y.argmax(1)==Y_PRED.argmax(1)).item()\n",
        "        acc = (correctos/N)*100\n",
        "        perdida += [L_total]\n",
        "        \n",
        "        sys.stdout.write(\n",
        "            '\\rEpoch:{0:03d}'.format(e) + ' Acc:{0:.2f}%'.format(acc)\n",
        "            + ' Loss:{0:.4f}'.format(L_total) \n",
        "            + ' Tiempo/epoch:{0:.3f}s'.format(tiempo_epochs/e))\n",
        "        \n",
        "        \n",
        "  return perdida\n",
        "\n",
        "#-------------------------- PROBANDO LA RED -------------------------#\n",
        "\n",
        "#-------------------------- PRIMERA RED -----------------------------#\n",
        "\n",
        "\n",
        "\n",
        "F, C = 300,10\n",
        "red = FFNN(F, [50]*2, [celu]*2, C)\n",
        "optimizador = SGD(red.parameters, 0.01)\n",
        "N = 1000\n",
        "dataset = RandomDataset(N, F, C)\n",
        "perdida = entrenar_FFNN(red, dataset, optimizador, epochs=500, batch_size=100, device='cuda')\n",
        "\n",
        "#-------------------------- SEGUNDA RED VARIANDO C Y CAPAS ESCONDIDAS-----------------------------#\n",
        "\n",
        "F2, C2 = 300,5\n",
        "red2 = FFNN(F2, [100]*2, [celu,relu], C2)\n",
        "optimizador2 = SGD(red2.parameters, 0.01)\n",
        "N2 = 1000\n",
        "dataset2 = RandomDataset(N2, F2, C2)\n",
        "perdida2 = entrenar_FFNN(red2, dataset2, optimizador2, epochs=500, batch_size=100, device='cpu')\n",
        "\n",
        "\n",
        "\n",
        "#-------------------------- TERCERA RED AGREGANDO UNA CAPA-----------------------------#\n",
        "# 3 CAPAS\n",
        "\n",
        "F3, C3 = 500,5\n",
        "red3 = FFNN(F3, [50]*3, [celu,relu,swish], C3)\n",
        "optimizador3 = SGD(red3.parameters, 0.01)\n",
        "N3 = 1000\n",
        "dataset3 = RandomDataset(N3, F3, C3)\n",
        "perdida3 = entrenar_FFNN(red3, dataset3, optimizador3, epochs=500, batch_size=100, device='cuda')\n",
        "\n",
        "\n",
        "#-------------------------- CUARTA RED CAMBIANDO TODO INCLUSO TASA APRENDIZAJE-----------------------------#\n",
        "# 3 CAPAS\n",
        "\n",
        "F4, C4 = 300,10\n",
        "red4 = FFNN(F4, [30]*2, [swish]*2, C4)\n",
        "optimizador4 = SGD(red4.parameters, 0.005)\n",
        "N4 = 1000\n",
        "dataset4 = RandomDataset(N4, F4, C4)\n",
        "perdida4 = entrenar_FFNN(red4, dataset4, optimizador4, epochs=500, batch_size=100, device='cuda')\n",
        "\n",
        "#--------------------- QUINTA RED VARIANDO INPUT --------------------#\n",
        "F5, C5 = 300,100\n",
        "red5 = FFNN(F5, [30]*2, [swish]*2, C5)\n",
        "optimizador5 = SGD(red5.parameters, 0.01)\n",
        "N5 = 2000\n",
        "dataset5 = RandomDataset(N5, F5, C5)\n",
        "perdida5 = entrenar_FFNN(red5, dataset5, optimizador5, epochs=500, batch_size=100, device='cuda')\n",
        "\n",
        "\n",
        "\n"
      ],
      "execution_count": 0,
      "outputs": [
        {
          "output_type": "stream",
          "text": [
            "Epoch:500 Acc:51.90% Loss:3.2895 Tiempo/epoch:0.075s"
          ],
          "name": "stdout"
        }
      ]
    },
    {
      "cell_type": "code",
      "metadata": {
        "colab_type": "code",
        "id": "Wn3K2waUfZFh",
        "colab": {}
      },
      "source": [
        ""
      ],
      "execution_count": 0,
      "outputs": []
    },
    {
      "cell_type": "code",
      "metadata": {
        "id": "GJx5kndFBhgi",
        "colab_type": "code",
        "colab": {}
      },
      "source": [
        ""
      ],
      "execution_count": 0,
      "outputs": []
    },
    {
      "cell_type": "markdown",
      "metadata": {
        "id": "NDnYdhV0n_X-",
        "colab_type": "text"
      },
      "source": [
        "## 4d) Graficando la pérdida/error en el tiempo"
      ]
    },
    {
      "cell_type": "code",
      "metadata": {
        "id": "NVhVgf1poBkQ",
        "colab_type": "code",
        "outputId": "fecea9a1-6b28-476b-9a98-6d6fb28c7602",
        "colab": {
          "base_uri": "https://localhost:8080/"
        }
      },
      "source": [
        "\n",
        "import matplotlib.pyplot as plt\n",
        "\n",
        "plt.plot(range(len(perdida)),perdida)\n",
        "plt.ylabel('Funcion de perdida')\n",
        "plt.xlabel('Cantidad de epocas')\n",
        "plt.title(\"Midiendo la funcion de perdida de la red 1\")\n",
        "plt.show()\n",
        "\n",
        "\n",
        "\n",
        "plt.plot(range(len(perdida2)),perdida2)\n",
        "plt.ylabel('Funcion de perdida')\n",
        "plt.xlabel('Cantidad de epocas')\n",
        "plt.title(\"Midiendo la funcion de perdida de la red 2\")\n",
        "plt.show()\n",
        "\n",
        "\n",
        "plt.plot(range(len(perdida3)),perdida3)\n",
        "plt.ylabel('Funcion de perdida')\n",
        "plt.xlabel('Cantidad de epocas')\n",
        "plt.title(\"Midiendo la funcion de perdida de la red 3\")\n",
        "plt.show()\n",
        "\n",
        "plt.plot(range(len(perdida4)),perdida4)\n",
        "plt.ylabel('Funcion de perdida')\n",
        "plt.xlabel('Cantidad de epocas')\n",
        "plt.title(\"Midiendo la funcion de perdida de la red 4\")\n",
        "plt.show()\n",
        "\n",
        "plt.plot(range(len(perdida5)),perdida5)\n",
        "plt.ylabel('Funcion de perdida')\n",
        "plt.xlabel('Cantidad de epocas')\n",
        "plt.title(\"Midiendo la funcion de perdida de la red 5\")\n",
        "plt.show()"
      ],
      "execution_count": 0,
      "outputs": [
        {
          "output_type": "display_data",
          "data": {
            "image/png": "[encoded data removed]",
            "text/plain": [
              "<Figure size 432x288 with 1 Axes>"
            ]
          },
          "metadata": {
            "tags": []
          }
        },
        {
          "output_type": "display_data",
          "data": {
            "image/png": "[encoded data removed]",
            "text/plain": [
              "<Figure size 432x288 with 1 Axes>"
            ]
          },
          "metadata": {
            "tags": []
          }
        },
        {
          "output_type": "display_data",
          "data": {
            "image/png": "[encoded data removed]",
            "text/plain": [
              "<Figure size 432x288 with 1 Axes>"
            ]
          },
          "metadata": {
            "tags": []
          }
        },
        {
          "output_type": "display_data",
          "data": {
            "image/png": "[encoded data removed]",
            "text/plain": [
              "<Figure size 432x288 with 1 Axes>"
            ]
          },
          "metadata": {
            "tags": []
          }
        },
        {
          "output_type": "display_data",
          "data": {
            "image/png": "[encoded data removed]",
            "text/plain": [
              "<Figure size 432x288 with 1 Axes>"
            ]
          },
          "metadata": {
            "tags": []
          }
        }
      ]
    },
    {
      "cell_type": "code",
      "metadata": {
        "id": "Uii0lVMaHfwQ",
        "colab_type": "code",
        "colab": {}
      },
      "source": [
        ""
      ],
      "execution_count": 0,
      "outputs": []
    },
    {
      "cell_type": "markdown",
      "metadata": {
        "id": "ICCODVV9oF9d",
        "colab_type": "text"
      },
      "source": [
        "## 4e) Opcional: Optimizando tu red para MNIST"
      ]
    },
    {
      "cell_type": "code",
      "metadata": {
        "id": "-cRIuWQroDW9",
        "colab_type": "code",
        "outputId": "c498f9d4-02e4-4fe5-d16c-5499994376d4",
        "colab": {
          "base_uri": "https://localhost:8080/"
        }
      },
      "source": [
        "\"\"\"\n",
        "import time\n",
        "import sys \n",
        "import numpy as np\n",
        "from torchvision.datasets import MNIST\n",
        "from torchvision.transforms import ToTensor\n",
        "from matplotlib.pyplot import subplots\n",
        "from random import randint\n",
        "import random\n",
        "\n",
        "red_neuronal =  FFNN(784,[32,16],[relu,relu],10)\n",
        "dataset = MNIST('mnist', train=False, transform=ToTensor(),download=True)\n",
        "def entrenar_FFNN(red, dataset, epochs=1, batch_size=1, device='cpu'):\n",
        "  red.to(device)\n",
        "  data = DataLoader(dataset, batch_size, shuffle=True)\n",
        "  perdida = []\n",
        "  tiempo_epochs = 0\n",
        "  for e in range(1,epochs+1):  \n",
        "    print(e)\n",
        "    inicio_epoch = time.clock()\n",
        "    #TRAINING\n",
        "    k=0\n",
        "    m=[]\n",
        "    for x,y in data:   \n",
        "      if k < 5: \n",
        "        m += [x]\n",
        "        m += [y]\n",
        "        k+=1\n",
        "        pass\n",
        "      x, y = x.to(device), y.to(device)\n",
        "      y_pred = red.forward(x)\n",
        "      zeros = torch.zeros(batch_size,10)\n",
        "      for i in range(batch_size):\n",
        "        zeros[i][y[i]]=1\n",
        "      zeros.to(device)\n",
        "      red.backward(x,zeros,y_pred)\n",
        "      L = CELoss(y_pred, zeros)\n",
        "      for p in red.parameters():\n",
        "        p.data = p.data - 0.001*p.grad\n",
        "     \n",
        "     \n",
        "      #GENERALIZATION\n",
        "    for i in range(5):\n",
        "      \n",
        "      aciertos = 0\n",
        "      aux = 2*i\n",
        "      x, y = m[aux].to(device), m[aux+1].to(device)\n",
        "      y_pred = red.forward(x)\n",
        "      \n",
        "      \n",
        "      for indice,softmaxresult in enumerate(y_pred):\n",
        "        prediccion = softmaxresult.max(0)[1]\n",
        "        if prediccion == y[indice]:\n",
        "          aciertos = aciertos + 1\n",
        "        \n",
        "      porcentaje = (aciertos/(len(dataloader)*batch_size))*100\n",
        "      \n",
        "      zeros = torch.zeros(batch_size,10)\n",
        "      for i in range(batch_size):\n",
        "        zeros[i][y[i]]=1\n",
        "      zeros.to(device)\n",
        "      L = CELoss(y_pred, zeros)\n",
        "      acc = ()\n",
        "      perdida+=[L]\n",
        "      \n",
        "\n",
        "    \n",
        "  return perdida\n",
        "\n",
        "perdida = entrenar_FFNN(red_neuronal,dataset,100,100,'cpu')\n",
        "plt.plot(range(len(perdida)),perdida)\n",
        "\n",
        "\"\"\""
      ],
      "execution_count": 0,
      "outputs": [
        {
          "output_type": "execute_result",
          "data": {
            "text/plain": [
              "\"\\nimport time\\nimport sys \\nimport numpy as np\\nfrom torchvision.datasets import MNIST\\nfrom torchvision.transforms import ToTensor\\nfrom matplotlib.pyplot import subplots\\nfrom random import randint\\nimport random\\n\\nred_neuronal =  FFNN(784,[32,16],[relu,relu],10)\\ndataset = MNIST('mnist', train=False, transform=ToTensor(),download=True)\\ndef entrenar_FFNN(red, dataset, epochs=1, batch_size=1, device='cpu'):\\n  red.to(device)\\n  data = DataLoader(dataset, batch_size, shuffle=True)\\n  perdida = []\\n  tiempo_epochs = 0\\n  for e in range(1,epochs+1):  \\n    print(e)\\n    inicio_epoch = time.clock()\\n    #TRAINING\\n    k=0\\n    m=[]\\n    for x,y in data:   \\n      if k < 5: \\n        m += [x]\\n        m += [y]\\n        k+=1\\n        pass\\n      x, y = x.to(device), y.to(device)\\n      y_pred = red.forward(x)\\n      zeros = torch.zeros(batch_size,10)\\n      for i in range(batch_size):\\n        zeros[i][y[i]]=1\\n      zeros.to(device)\\n      red.backward(x,zeros,y_pred)\\n      L = CELoss(y_pred, zeros)\\n      for p in red.parameters():\\n        p.data = p.data - 0.001*p.grad\\n     \\n     \\n      #GENERALIZATION\\n    for i in range(5):\\n      \\n      aciertos = 0\\n      aux = 2*i\\n      x, y = m[aux].to(device), m[aux+1].to(device)\\n      y_pred = red.forward(x)\\n      \\n      \\n      for indice,softmaxresult in enumerate(y_pred):\\n        prediccion = softmaxresult.max(0)[1]\\n        if prediccion == y[indice]:\\n          aciertos = aciertos + 1\\n        \\n      porcentaje = (aciertos/(len(dataloader)*batch_size))*100\\n      \\n      zeros = torch.zeros(batch_size,10)\\n      for i in range(batch_size):\\n        zeros[i][y[i]]=1\\n      zeros.to(device)\\n      L = CELoss(y_pred, zeros)\\n      acc = ()\\n      perdida+=[L]\\n      \\n\\n    \\n  return perdida\\n\\nperdida = entrenar_FFNN(red_neuronal,dataset,100,100,'cpu')\\nplt.plot(range(len(perdida)),perdida)\\n\\n\""
            ]
          },
          "metadata": {
            "tags": []
          },
          "execution_count": 32
        }
      ]
    },
    {
      "cell_type": "code",
      "metadata": {
        "id": "Tq6550DnbNl_",
        "colab_type": "code",
        "colab": {}
      },
      "source": [
        ""
      ],
      "execution_count": 0,
      "outputs": []
    }
  ]
}