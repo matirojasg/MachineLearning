{
  "nbformat": 4,
  "nbformat_minor": 0,
  "metadata": {
    "colab": {
      "name": "Tarea1_MatiasRojas",
      "provenance": [],
      "collapsed_sections": [],
      "toc_visible": true
    },
    "kernelspec": {
      "name": "python3",
      "display_name": "Python 3"
    },
    "accelerator": "GPU"
  },
  "cells": [
    {
      "cell_type": "markdown",
      "metadata": {
        "id": "xcP3YCftsO5k",
        "colab_type": "text"
      },
      "source": [
        ""
      ]
    },
    {
      "cell_type": "markdown",
      "metadata": {
        "id": "iCszeuRk0NuH",
        "colab_type": "text"
      },
      "source": [
        "# Tarea 1 Activaciones y pasada hacia adelante en una red neuronal <br/> CC6204 Deep Learning, Universidad de Chile  <br/> Hoja de respuestas\n",
        "## Nombre: Matías Rojas\n",
        "Fecha de entrega: 20 de agosto de 2019"
      ]
    },
    {
      "cell_type": "code",
      "metadata": {
        "id": "8QQB7jV7LMEo",
        "colab_type": "code",
        "colab": {}
      },
      "source": [
        "# Este notebook está pensado para correr en CoLaboratory. \n",
        "# Lo único imprescindible por importar es torch \n",
        "import torch\n",
        "\n",
        "# Posiblemenete quieras instalar e importar ipdb para debuggear.\n",
        "# Si es así, descomenta lo siguiente\n",
        "# !pip install -q ipdb\n",
        "# import ipdb"
      ],
      "execution_count": 0,
      "outputs": []
    },
    {
      "cell_type": "markdown",
      "metadata": {
        "id": "Uq9u0IfT0VRp",
        "colab_type": "text"
      },
      "source": [
        "# Parte 1: Funciones de activación y función de salida"
      ]
    },
    {
      "cell_type": "markdown",
      "metadata": {
        "id": "DMw80P8o0qrJ",
        "colab_type": "text"
      },
      "source": [
        "## 1a) Funciones de activación"
      ]
    },
    {
      "cell_type": "code",
      "metadata": {
        "id": "tDhcNbNT0YNr",
        "colab_type": "code",
        "colab": {}
      },
      "source": [
        "# Definición de la función sigmoide.\n",
        "\n",
        "def sig(T):\n",
        "  return torch.reciprocal(1 + torch.exp(-1 * T))\n",
        "\n",
        "# Definición de la tangente hiperbólica como ejemplo de función de activación.\n",
        "def tanh(T):\n",
        "  E = torch.exp(T)\n",
        "  e = torch.exp(-1 * T)\n",
        "  return (E - e) * torch.reciprocal(E + e)\n",
        "\n",
        "# Definición de la función relu.\n",
        "def relu(T):\n",
        "  return torch.clamp(T,min=0)\n",
        "\n",
        "#Definición de la función swish.\n",
        "def swish(T, beta):\n",
        "  return T*sig(beta*T)\n",
        "\n",
        "#Definición de l función celu.\n",
        "def celu(T, alpha):\n",
        "  T[T<0]=alpha*(torch.exp(T[T<0]/alpha) - 1)\n",
        "  return T\n"
      ],
      "execution_count": 0,
      "outputs": []
    },
    {
      "cell_type": "markdown",
      "metadata": {
        "id": "e_0dTh7l1bas",
        "colab_type": "text"
      },
      "source": [
        "## 1b) Softmax"
      ]
    },
    {
      "cell_type": "markdown",
      "metadata": {
        "id": "NjIyp2nL1le5",
        "colab_type": "text"
      },
      "source": [
        "(La demostración puedes entregarla en otro archivo o incluirla directamente acá)"
      ]
    },
    {
      "cell_type": "code",
      "metadata": {
        "id": "jDg2sU7D1dIY",
        "colab_type": "code",
        "colab": {}
      },
      "source": [
        "# Demostración:\n",
        "# Queremos demostrar que: softmax(x_1-M, x_2-M, ... , x_n - M) = softmax(x_1, x_2, ... , x_n)\n",
        "# En efecto, softmax(x_1-M, x_2-M, ... , x_n - M) = (s_1, s_2, ... , s_n) = (e^(x_1-M) / sum(e^(x_j-M)), e^(x_2-M) / sum(e^(x_j-M)), ... , e^(x_n-M) / sum(e^(x_j-M))) \n",
        "# Pero como en el denominador y el numerador se puede factorizar por e^-M ya que no depende del índice de la sumatoria, entonces podemos simplificar quedando:\n",
        "# (e^x_1 / sum(e^x_j), e^x_2 / sum(e^x_j), ... , e^x_n / sum(e^x_j)) = softmax(x_1, x_2 , ... , x_n), que es a lo que queríamos llegar.\n",
        "\n",
        "def softmax(T, dim, estable=True):\n",
        "  if estable:\n",
        "    max = torch.max(T,dim,keepdim=True)[0]\n",
        "    num = torch.exp(T-max)\n",
        "    den = torch.sum(num,dim,keepdim=True)\n",
        "    result = torch.div(num,den)\n",
        "  else:\n",
        "    num = torch.exp(T)\n",
        "    den = torch.sum(num,dim,keepdim=True)\n",
        "    result = torch.div(num,den)\n",
        "  return result\n",
        "  "
      ],
      "execution_count": 0,
      "outputs": []
    },
    {
      "cell_type": "markdown",
      "metadata": {
        "id": "662XLsDA9XXI",
        "colab_type": "text"
      },
      "source": [
        "# Parte 2: Red neuronal y pasada hacia adelante (forward)"
      ]
    },
    {
      "cell_type": "markdown",
      "metadata": {
        "id": "fTUm9ZbX9bRA",
        "colab_type": "text"
      },
      "source": [
        "## 2a) Clase para red neuronal, 2b) Iterando por parametros, 2d) Pasada hacia adelante"
      ]
    },
    {
      "cell_type": "code",
      "metadata": {
        "id": "f_jeuYbv9WhK",
        "colab_type": "code",
        "colab": {}
      },
      "source": [
        "\n",
        "\n",
        "class FFNN(torch.nn.Module):\n",
        "  def __init__(self, F, l_h, l_a, C, input=None):\n",
        "    super(FFNN, self).__init__()\n",
        "    self.listfunctions = l_a\n",
        "    self.nhiddenlayers = len(l_h)\n",
        "    self.weight = [0]*(self.nhiddenlayers+1)\n",
        "    self.bias = [0]*(self.nhiddenlayers+1)\n",
        "    self.parameterList = torch.nn.ParameterList([])\n",
        "    self.input = input \n",
        "    self.F = F\n",
        "    self.U = None\n",
        "    self.c = None \n",
        "    \n",
        "    if input!=None:\n",
        "      for i in range(0,len(self.input[0])-1):\n",
        "        self.weight[i]=self.input[0][i]\n",
        "        self.bias[i]=self.input[1][i]\n",
        "        self.parameterList.append(torch.nn.Parameter(self.bias[i]))\n",
        "        self.parameterList.append(torch.nn.Parameter(self.weight[i]))  \n",
        "      self.U = self.input[0][-1]\n",
        "      self.c = self.input[1][-1]\n",
        "      self.parameterList.append(torch.nn.Parameter(self.U))\n",
        "      self.parameterList.append(torch.nn.Parameter(self.c))  \n",
        "      \n",
        "    else:\n",
        "      bias = [0]*(self.nhiddenlayers) \n",
        "      weight = [0]*(self.nhiddenlayers)\n",
        "      bias[0] = torch.zeros(1,l_h[0])\n",
        "      weight[0] = torch.rand(F,l_h[0])\n",
        "      self.parameterList.append(torch.nn.Parameter(bias[0]))\n",
        "      self.parameterList.append(torch.nn.Parameter(weight[0]))\n",
        "      \n",
        "      for i in range(1,self.nhiddenlayers):\n",
        "        bias[i] = torch.zeros(1,l_h[i])\n",
        "        weight[i] = torch.rand(l_h[i-1],l_h[i])\n",
        "        self.parameterList.append(torch.nn.Parameter(bias[i]))\n",
        "        self.parameterList.append(torch.nn.Parameter(weight[i]))\n",
        "\n",
        "      self.c = torch.zeros(1,C)\n",
        "      self.U = torch.rand(l_h[self.nhiddenlayers-1],C)\n",
        "      self.parameterList.append(torch.nn.Parameter(self.U))\n",
        "      self.parameterList.append(torch.nn.Parameter(self.c))\n",
        "      \n",
        "        \n",
        "  def resumen(self):\n",
        "    for indice,tensor in self.named_parameters():\n",
        "      print(\"Parametro n°: \", indice, \" con un tensor de dimensiones \", tensor.size())\n",
        "    \n",
        "    for tensor in self.parameters():\n",
        "      print(tensor)\n",
        "       \n",
        "  def forward(self, x):\n",
        "\n",
        "    h = [None]*(self.nhiddenlayers)\n",
        "    x = x.view(-1,self.F)\n",
        "    h[0] = self.listfunctions[0](x.mm(self.parameterList[1]).add(self.parameterList[0]))\n",
        "    for i in range(1,self.nhiddenlayers):\n",
        "      h[i] = self.listfunctions[i](h[i-1].mm(self.parameterList[i+2]).add(self.parameterList[i+1]))\n",
        "    y = softmax(h[self.nhiddenlayers-1].mm(self.parameterList[-2]).add(self.parameterList[-1]),1)    \n",
        "    return y\n",
        "  \n",
        "  \n"
      ],
      "execution_count": 0,
      "outputs": []
    },
    {
      "cell_type": "markdown",
      "metadata": {
        "id": "qr-Oz16j_jwN",
        "colab_type": "text"
      },
      "source": [
        ""
      ]
    },
    {
      "cell_type": "markdown",
      "metadata": {
        "id": "Bgf5Xx-34Pa1",
        "colab_type": "text"
      },
      "source": [
        "## 2c) Moviendo los parámetros entre dispositivos"
      ]
    },
    {
      "cell_type": "code",
      "metadata": {
        "id": "2zppplXd4QXa",
        "colab_type": "code",
        "outputId": "52400476-55d0-4ed7-96d6-cae5bdc9c139",
        "colab": {
          "base_uri": "https://localhost:8080/",
          "height": 1000
        }
      },
      "source": [
        "def moveToGpu(red_neuronal):\n",
        "    red_neuronal.cuda()\n",
        "  \n",
        "def moveToCpu(red_neuronal):\n",
        "    red_neuronal.cpu()  \n",
        "  \n",
        "\n",
        "red_neuronal =  FFNN(784,[32,16],[relu,relu],10)\n",
        "moveToGpu(red_neuronal)\n",
        "print(red_neuronal)\n",
        "moveToCpu(red_neuronal)\n",
        "print(red_neuronal)\n",
        "\n",
        "red_neuronal.resumen()"
      ],
      "execution_count": 0,
      "outputs": [
        {
          "output_type": "stream",
          "text": [
            "FFNN(\n",
            "  (parameterList): ParameterList(\n",
            "      (0): Parameter containing: [torch.cuda.FloatTensor of size 1x32 (GPU 0)]\n",
            "      (1): Parameter containing: [torch.cuda.FloatTensor of size 784x32 (GPU 0)]\n",
            "      (2): Parameter containing: [torch.cuda.FloatTensor of size 1x16 (GPU 0)]\n",
            "      (3): Parameter containing: [torch.cuda.FloatTensor of size 32x16 (GPU 0)]\n",
            "      (4): Parameter containing: [torch.cuda.FloatTensor of size 16x10 (GPU 0)]\n",
            "      (5): Parameter containing: [torch.cuda.FloatTensor of size 1x10 (GPU 0)]\n",
            "  )\n",
            ")\n",
            "FFNN(\n",
            "  (parameterList): ParameterList(\n",
            "      (0): Parameter containing: [torch.FloatTensor of size 1x32]\n",
            "      (1): Parameter containing: [torch.FloatTensor of size 784x32]\n",
            "      (2): Parameter containing: [torch.FloatTensor of size 1x16]\n",
            "      (3): Parameter containing: [torch.FloatTensor of size 32x16]\n",
            "      (4): Parameter containing: [torch.FloatTensor of size 16x10]\n",
            "      (5): Parameter containing: [torch.FloatTensor of size 1x10]\n",
            "  )\n",
            ")\n",
            "Parametro n°:  parameterList.0  con un tensor de dimensiones  torch.Size([1, 32])\n",
            "Parametro n°:  parameterList.1  con un tensor de dimensiones  torch.Size([784, 32])\n",
            "Parametro n°:  parameterList.2  con un tensor de dimensiones  torch.Size([1, 16])\n",
            "Parametro n°:  parameterList.3  con un tensor de dimensiones  torch.Size([32, 16])\n",
            "Parametro n°:  parameterList.4  con un tensor de dimensiones  torch.Size([16, 10])\n",
            "Parametro n°:  parameterList.5  con un tensor de dimensiones  torch.Size([1, 10])\n",
            "Parameter containing:\n",
            "tensor([[0., 0., 0., 0., 0., 0., 0., 0., 0., 0., 0., 0., 0., 0., 0., 0., 0., 0., 0., 0., 0., 0., 0., 0.,\n",
            "         0., 0., 0., 0., 0., 0., 0., 0.]], requires_grad=True)\n",
            "Parameter containing:\n",
            "tensor([[0.3205, 0.8876, 0.2772,  ..., 0.4216, 0.3437, 0.2986],\n",
            "        [0.1669, 0.3846, 0.2480,  ..., 0.0706, 0.8420, 0.5858],\n",
            "        [0.0347, 0.4016, 0.8303,  ..., 0.6878, 0.7874, 0.0873],\n",
            "        ...,\n",
            "        [0.7242, 0.9700, 0.1365,  ..., 0.2201, 0.0331, 0.9653],\n",
            "        [0.2897, 0.5051, 0.0377,  ..., 0.7848, 0.7446, 0.3795],\n",
            "        [0.7707, 0.0803, 0.8218,  ..., 0.5661, 0.7497, 0.6893]],\n",
            "       requires_grad=True)\n",
            "Parameter containing:\n",
            "tensor([[0., 0., 0., 0., 0., 0., 0., 0., 0., 0., 0., 0., 0., 0., 0., 0.]],\n",
            "       requires_grad=True)\n",
            "Parameter containing:\n",
            "tensor([[0.2439, 0.3489, 0.6803, 0.6293, 0.3857, 0.8326, 0.8012, 0.5375, 0.7732,\n",
            "         0.5230, 0.0030, 0.6560, 0.2650, 0.7104, 0.9572, 0.4332],\n",
            "        [0.4550, 0.3314, 0.3673, 0.2820, 0.8124, 0.3976, 0.3781, 0.1545, 0.8377,\n",
            "         0.5527, 0.9222, 0.4586, 0.0213, 0.0535, 0.7111, 0.1278],\n",
            "        [0.9489, 0.9348, 0.8235, 0.3525, 0.8124, 0.6554, 0.9767, 0.9914, 0.2482,\n",
            "         0.8703, 0.7954, 0.3970, 0.9234, 0.7167, 0.0694, 0.0357],\n",
            "        [0.9675, 0.1222, 0.8950, 0.7744, 0.5861, 0.1308, 0.6000, 0.5994, 0.0853,\n",
            "         0.6958, 0.9925, 0.6787, 0.5889, 0.6656, 0.8270, 0.8734],\n",
            "        [0.2157, 0.0382, 0.7751, 0.3290, 0.9855, 0.4862, 0.9453, 0.1992, 0.5776,\n",
            "         0.6222, 0.1844, 0.4988, 0.2445, 0.2717, 0.2226, 0.2798],\n",
            "        [0.2234, 0.3191, 0.6930, 0.6012, 0.5379, 0.5069, 0.2584, 0.5035, 0.6492,\n",
            "         0.2262, 0.0512, 0.2549, 0.2591, 0.3867, 0.1273, 0.8602],\n",
            "        [0.5943, 0.4159, 0.7375, 0.7834, 0.2863, 0.4243, 0.7330, 0.2248, 0.9951,\n",
            "         0.0022, 0.0208, 0.7090, 0.2801, 0.7398, 0.8071, 0.3346],\n",
            "        [0.4538, 0.0081, 0.8499, 0.3737, 0.2901, 0.4283, 0.1657, 0.9087, 0.6589,\n",
            "         0.7141, 0.8641, 0.4967, 0.2659, 0.9588, 0.4105, 0.8315],\n",
            "        [0.8400, 0.0481, 0.5850, 0.7522, 0.4853, 0.6983, 0.0630, 0.5439, 0.5429,\n",
            "         0.8536, 0.4436, 0.4395, 0.6798, 0.7408, 0.5907, 0.9874],\n",
            "        [0.8173, 0.6458, 0.4853, 0.2223, 0.7641, 0.3406, 0.0990, 0.3259, 0.5051,\n",
            "         0.0058, 0.9971, 0.8794, 0.7419, 0.9085, 0.8274, 0.7686],\n",
            "        [0.4089, 0.1188, 0.4173, 0.0141, 0.3010, 0.0168, 0.2629, 0.7890, 0.9558,\n",
            "         0.7173, 0.6038, 0.3503, 0.3732, 0.8473, 0.4731, 0.2182],\n",
            "        [0.9724, 0.3760, 0.0801, 0.5553, 0.3993, 0.1205, 0.2799, 0.0852, 0.9905,\n",
            "         0.9352, 0.4763, 0.8272, 0.8043, 0.2589, 0.6191, 0.4664],\n",
            "        [0.2746, 0.9535, 0.8858, 0.8424, 0.1181, 0.5441, 0.9016, 0.6099, 0.0531,\n",
            "         0.4336, 0.7466, 0.2616, 0.3125, 0.2723, 0.1760, 0.9992],\n",
            "        [0.5079, 0.6330, 0.7157, 0.0186, 0.0895, 0.6083, 0.7445, 0.0498, 0.6537,\n",
            "         0.7554, 0.9057, 0.6511, 0.4244, 0.9591, 0.7119, 0.0998],\n",
            "        [0.9954, 0.1151, 0.1860, 0.4812, 0.2267, 0.7095, 0.0512, 0.4217, 0.3428,\n",
            "         0.2279, 0.0180, 0.3513, 0.6040, 0.1285, 0.0871, 0.9934],\n",
            "        [0.2556, 0.3100, 0.4664, 0.0088, 0.3260, 0.1078, 0.4626, 0.9718, 0.3605,\n",
            "         0.7847, 0.2466, 0.7264, 0.9410, 0.1610, 0.1323, 0.1139],\n",
            "        [0.3146, 0.1504, 0.3293, 0.7357, 0.3236, 0.1389, 0.7071, 0.7625, 0.4629,\n",
            "         0.8168, 0.0208, 0.8444, 0.4241, 0.9284, 0.7976, 0.9716],\n",
            "        [0.8013, 0.9560, 0.4818, 0.3414, 0.4287, 0.3182, 0.0828, 0.4725, 0.7876,\n",
            "         0.6092, 0.3342, 0.9040, 0.2475, 0.1871, 0.1239, 0.4742],\n",
            "        [0.4629, 0.8964, 0.4534, 0.7811, 0.4850, 0.8194, 0.2139, 0.3968, 0.9805,\n",
            "         0.9150, 0.1148, 0.2372, 0.8475, 0.6262, 0.6010, 0.3070],\n",
            "        [0.6888, 0.6773, 0.0881, 0.6908, 0.5293, 0.6649, 0.9367, 0.1667, 0.9510,\n",
            "         0.8524, 0.7940, 0.2777, 0.4234, 0.5637, 0.5628, 0.8143],\n",
            "        [0.8053, 0.7455, 0.6853, 0.8234, 0.4860, 0.7475, 0.9853, 0.7786, 0.8897,\n",
            "         0.6332, 0.9196, 0.8681, 0.8628, 0.3426, 0.2799, 0.4072],\n",
            "        [0.3606, 0.5204, 0.1208, 0.8617, 0.2667, 0.2150, 0.7619, 0.6935, 0.5903,\n",
            "         0.1330, 0.8071, 0.7785, 0.7286, 0.6131, 0.7231, 0.5800],\n",
            "        [0.5701, 0.5983, 0.9632, 0.9261, 0.8016, 0.7608, 0.5349, 0.1197, 0.0195,\n",
            "         0.5788, 0.8060, 0.7851, 0.3535, 0.2520, 0.8924, 0.4655],\n",
            "        [0.2040, 0.4796, 0.1434, 0.5884, 0.2175, 0.2985, 0.9749, 0.9990, 0.8518,\n",
            "         0.3679, 0.2141, 0.9806, 0.6531, 0.2831, 0.1224, 0.7894],\n",
            "        [0.8456, 0.0369, 0.7259, 0.6247, 0.5399, 0.3399, 0.8912, 0.3067, 0.8391,\n",
            "         0.9350, 0.4306, 0.2409, 0.6188, 0.0044, 0.7737, 0.3020],\n",
            "        [0.4676, 0.1871, 0.2268, 0.9367, 0.7856, 0.8465, 0.2494, 0.9375, 0.5503,\n",
            "         0.2011, 0.2410, 0.6501, 0.6460, 0.6177, 0.0990, 0.1676],\n",
            "        [0.0630, 0.4328, 0.4796, 0.9109, 0.7126, 0.9025, 0.6424, 0.1888, 0.2387,\n",
            "         0.6834, 0.9949, 0.0047, 0.8481, 0.8369, 0.3702, 0.4189],\n",
            "        [0.1814, 0.7784, 0.0473, 0.7369, 0.6982, 0.3622, 0.1378, 0.9051, 0.8362,\n",
            "         0.3679, 0.1131, 0.1582, 0.9963, 0.2353, 0.0297, 0.7576],\n",
            "        [0.6841, 0.5597, 0.0253, 0.6550, 0.3562, 0.3136, 0.3562, 0.6453, 0.9805,\n",
            "         0.4108, 0.0702, 0.0243, 0.6516, 0.7186, 0.1326, 0.4827],\n",
            "        [0.5535, 0.3374, 0.0454, 0.4692, 0.2898, 0.6083, 0.9952, 0.6772, 0.4506,\n",
            "         0.7831, 0.7205, 0.3150, 0.2458, 0.9528, 0.6205, 0.4493],\n",
            "        [0.6043, 0.7432, 0.9877, 0.9773, 0.4337, 0.4875, 0.0728, 0.3849, 0.9235,\n",
            "         0.4677, 0.6958, 0.2073, 0.4477, 0.5799, 0.3706, 0.9271],\n",
            "        [0.7308, 0.4779, 0.7695, 0.2019, 0.7644, 0.1864, 0.1132, 0.8059, 0.2871,\n",
            "         0.7007, 0.1483, 0.9386, 0.9701, 0.1089, 0.4771, 0.7317]],\n",
            "       requires_grad=True)\n",
            "Parameter containing:\n",
            "tensor([[0.6695, 0.7697, 0.7498, 0.7210, 0.4561, 0.6432, 0.4502, 0.1197, 0.0257,\n",
            "         0.0230],\n",
            "        [0.2364, 0.4892, 0.6974, 0.5909, 0.4970, 0.8641, 0.7946, 0.8412, 0.0568,\n",
            "         0.4501],\n",
            "        [0.1903, 0.6622, 0.6958, 0.2824, 0.5566, 0.6405, 0.2254, 0.8379, 0.4216,\n",
            "         0.5417],\n",
            "        [0.4953, 0.7857, 0.4068, 0.0666, 0.6651, 0.5533, 0.4170, 0.7296, 0.1040,\n",
            "         0.3978],\n",
            "        [0.7686, 0.4691, 0.8437, 0.7114, 0.0449, 0.2757, 0.9778, 0.4893, 0.6334,\n",
            "         0.3271],\n",
            "        [0.4091, 0.9393, 0.1072, 0.2332, 0.0500, 0.3384, 0.2497, 0.5426, 0.1777,\n",
            "         0.7725],\n",
            "        [0.3164, 0.0101, 0.8764, 0.0795, 0.0829, 0.6547, 0.4741, 0.1601, 0.2080,\n",
            "         0.4473],\n",
            "        [0.7814, 0.0128, 0.4866, 0.4959, 0.9470, 0.1109, 0.9901, 0.5588, 0.4081,\n",
            "         0.3566],\n",
            "        [0.1005, 0.8351, 0.3817, 0.0718, 0.3490, 0.7124, 0.9662, 0.4447, 0.0474,\n",
            "         0.2167],\n",
            "        [0.6484, 0.9415, 0.6250, 0.3367, 0.5205, 0.8358, 0.4865, 0.7968, 0.5958,\n",
            "         0.2743],\n",
            "        [0.0913, 0.5955, 0.9420, 0.2491, 0.5284, 0.8157, 0.6962, 0.8508, 0.6710,\n",
            "         0.9679],\n",
            "        [0.0311, 0.6542, 0.5432, 0.0380, 0.2867, 0.0715, 0.3451, 0.5282, 0.3743,\n",
            "         0.7612],\n",
            "        [0.0183, 0.1717, 0.7608, 0.8514, 0.7551, 0.4817, 0.2588, 0.3359, 0.5590,\n",
            "         0.7355],\n",
            "        [0.5734, 0.1271, 0.3032, 0.5810, 0.7198, 0.3701, 0.2105, 0.3574, 0.7500,\n",
            "         0.5614],\n",
            "        [0.2470, 0.8593, 0.8869, 0.5054, 0.7325, 0.7744, 0.3025, 0.2206, 0.0762,\n",
            "         0.6508],\n",
            "        [0.6816, 0.7961, 0.7345, 0.1242, 0.1396, 0.2053, 0.2376, 0.1307, 0.5472,\n",
            "         0.2306]], requires_grad=True)\n",
            "Parameter containing:\n",
            "tensor([[0., 0., 0., 0., 0., 0., 0., 0., 0., 0.]], requires_grad=True)\n"
          ],
          "name": "stdout"
        }
      ]
    },
    {
      "cell_type": "markdown",
      "metadata": {
        "id": "swTnKxznL6Ep",
        "colab_type": "text"
      },
      "source": [
        "# Parte 3: Probando tu red con parámetros pre-entrenados para MNIST"
      ]
    },
    {
      "cell_type": "code",
      "metadata": {
        "id": "uOBcElJ7BPcQ",
        "colab_type": "code",
        "outputId": "0bfafebd-eb7d-42fe-a0df-cfd88c701997",
        "colab": {
          "base_uri": "https://localhost:8080/",
          "height": 894
        }
      },
      "source": [
        "from torchvision.datasets import MNIST\n",
        "from torchvision.transforms import ToTensor\n",
        "from matplotlib.pyplot import subplots\n",
        "from random import randint\n",
        "import random\n",
        "\n",
        "\n",
        "# ESTE CODIGO ES SOLO PARA VER TODAS LAS COSAS QUE HAY EN MNIST\n",
        "\n",
        "# Descarga y almacena el conjunto de prueba de MNIST.\n",
        "dataset = MNIST('mnist', train=False, transform=ToTensor(),download=True)\n",
        "print('Cantidad total de datos:',len(dataset))\n",
        "T, l = dataset[0]\n",
        "\n",
        "print('Tensor')\n",
        "print('tipo:', T.type())\n",
        "print('dimensiones:', T.size())\n",
        "print()\n",
        "print('Entero')\n",
        "print('valor:', l)\n",
        "\n",
        "n_ejemplos = 3\n",
        "fig, axs = subplots(nrows=n_ejemplos, figsize=(2,n_ejemplos*3))\n",
        "\n",
        "for i in range(n_ejemplos):  \n",
        "  idx = random.randint(0,len(dataset))\n",
        "  T, l = dataset[idx]\n",
        "  img = T.view(28,28).numpy()\n",
        "  axs[i].set_title(\"clase: \"+ str(l))\n",
        "  axs[i].imshow(img)\n",
        "  "
      ],
      "execution_count": 0,
      "outputs": [
        {
          "output_type": "stream",
          "text": [
            "\r0it [00:00, ?it/s]"
          ],
          "name": "stderr"
        },
        {
          "output_type": "stream",
          "text": [
            "Downloading http://yann.lecun.com/exdb/mnist/train-images-idx3-ubyte.gz to mnist/MNIST/raw/train-images-idx3-ubyte.gz\n"
          ],
          "name": "stdout"
        },
        {
          "output_type": "stream",
          "text": [
            "9920512it [00:01, 8440624.06it/s]                            \n"
          ],
          "name": "stderr"
        },
        {
          "output_type": "stream",
          "text": [
            "Extracting mnist/MNIST/raw/train-images-idx3-ubyte.gz\n"
          ],
          "name": "stdout"
        },
        {
          "output_type": "stream",
          "text": [
            "  0%|          | 0/28881 [00:00<?, ?it/s]"
          ],
          "name": "stderr"
        },
        {
          "output_type": "stream",
          "text": [
            "Downloading http://yann.lecun.com/exdb/mnist/train-labels-idx1-ubyte.gz to mnist/MNIST/raw/train-labels-idx1-ubyte.gz\n"
          ],
          "name": "stdout"
        },
        {
          "output_type": "stream",
          "text": [
            "32768it [00:00, 135608.24it/s]           \n",
            "  0%|          | 0/1648877 [00:00<?, ?it/s]"
          ],
          "name": "stderr"
        },
        {
          "output_type": "stream",
          "text": [
            "Extracting mnist/MNIST/raw/train-labels-idx1-ubyte.gz\n",
            "Downloading http://yann.lecun.com/exdb/mnist/t10k-images-idx3-ubyte.gz to mnist/MNIST/raw/t10k-images-idx3-ubyte.gz\n"
          ],
          "name": "stdout"
        },
        {
          "output_type": "stream",
          "text": [
            "1654784it [00:00, 2211586.12it/s]                            \n",
            "0it [00:00, ?it/s]"
          ],
          "name": "stderr"
        },
        {
          "output_type": "stream",
          "text": [
            "Extracting mnist/MNIST/raw/t10k-images-idx3-ubyte.gz\n",
            "Downloading http://yann.lecun.com/exdb/mnist/t10k-labels-idx1-ubyte.gz to mnist/MNIST/raw/t10k-labels-idx1-ubyte.gz\n"
          ],
          "name": "stdout"
        },
        {
          "output_type": "stream",
          "text": [
            "8192it [00:00, 50533.41it/s]            \n"
          ],
          "name": "stderr"
        },
        {
          "output_type": "stream",
          "text": [
            "Extracting mnist/MNIST/raw/t10k-labels-idx1-ubyte.gz\n",
            "Processing...\n",
            "Done!\n",
            "Cantidad total de datos: 10000\n",
            "Tensor\n",
            "tipo: torch.FloatTensor\n",
            "dimensiones: torch.Size([1, 28, 28])\n",
            "\n",
            "Entero\n",
            "valor: 7\n"
          ],
          "name": "stdout"
        },
        {
          "output_type": "display_data",
          "data": {
            "image/png": "[encoded data removed]",
            "text/plain": [
              "<Figure size 144x648 with 3 Axes>"
            ]
          },
          "metadata": {
            "tags": []
          }
        }
      ]
    },
    {
      "cell_type": "markdown",
      "metadata": {
        "id": "s6s-z1DNL-J0",
        "colab_type": "text"
      },
      "source": [
        "## 3b) Cargando los parámetros pre-entrenados"
      ]
    },
    {
      "cell_type": "code",
      "metadata": {
        "id": "SLeq3y8FE3SU",
        "colab_type": "code",
        "outputId": "fb6ec9e9-a034-42aa-c463-4dab856408a9",
        "colab": {
          "base_uri": "https://localhost:8080/",
          "height": 134
        }
      },
      "source": [
        "import numpy as np\n",
        "!git clone https://github.com/jorgeperezrojas/cc6204-DeepLearning-DCCUChile.git\n",
        "  \n",
        "W1 = torch.from_numpy(np.loadtxt(\"/content/cc6204-DeepLearning-DCCUChile/2019/tareas/tarea1/mnist_weights/W1.txt\")).float()\n",
        "W2 = torch.from_numpy(np.loadtxt(\"/content/cc6204-DeepLearning-DCCUChile/2019/tareas/tarea1/mnist_weights/W2.txt\")).float()\n",
        "b1 = torch.from_numpy(np.loadtxt(\"/content/cc6204-DeepLearning-DCCUChile/2019/tareas/tarea1/mnist_weights/b1.txt\")).float()\n",
        "b2 = torch.from_numpy(np.loadtxt(\"/content/cc6204-DeepLearning-DCCUChile/2019/tareas/tarea1/mnist_weights/b2.txt\")).float()\n",
        "U = torch.from_numpy(np.loadtxt(\"/content/cc6204-DeepLearning-DCCUChile/2019/tareas/tarea1/mnist_weights/U.txt\")).float()\n",
        "c = torch.from_numpy(np.loadtxt(\"/content/cc6204-DeepLearning-DCCUChile/2019/tareas/tarea1/mnist_weights/c.txt\")).float()\n",
        "input = [[W1,W2,U],[b1,b2,c]]\n",
        "red_neuronal =  FFNN(784,[32,16],[relu,relu],10, input)\n"
      ],
      "execution_count": 0,
      "outputs": [
        {
          "output_type": "stream",
          "text": [
            "Cloning into 'cc6204-DeepLearning-DCCUChile'...\n",
            "remote: Enumerating objects: 11, done.\u001b[K\n",
            "remote: Counting objects: 100% (11/11), done.\u001b[K\n",
            "remote: Compressing objects: 100% (9/9), done.\u001b[K\n",
            "remote: Total 5693 (delta 0), reused 11 (delta 0), pack-reused 5682\u001b[K\n",
            "Receiving objects: 100% (5693/5693), 7.19 MiB | 8.61 MiB/s, done.\n",
            "Resolving deltas: 100% (2740/2740), done.\n"
          ],
          "name": "stdout"
        }
      ]
    },
    {
      "cell_type": "markdown",
      "metadata": {
        "id": "WWRa68ZFMIyr",
        "colab_type": "text"
      },
      "source": [
        "## 3c) Cálcula la predicción de un ejemplo al azar"
      ]
    },
    {
      "cell_type": "code",
      "metadata": {
        "id": "a-SaIzRoMMoc",
        "colab_type": "code",
        "outputId": "564bf79c-a1ff-46cf-bb2e-87fe24eb3a56",
        "colab": {
          "base_uri": "https://localhost:8080/",
          "height": 1000
        }
      },
      "source": [
        "from torchvision.datasets import MNIST\n",
        "from torchvision.transforms import ToTensor\n",
        "from matplotlib.pyplot import subplots\n",
        "from random import randint\n",
        "import random\n",
        "cols = 2\n",
        "filas = 3\n",
        "dataset = MNIST('mnist', train=False, transform=ToTensor(),download=True)\n",
        "print('Cantidad total de datos:',len(dataset))\n",
        "\n",
        "T, l = dataset[0]\n",
        "\n",
        "aux = 0\n",
        "fig, axs = subplots(nrows=filas, ncols = cols, figsize=(3*filas,10*cols))\n",
        "\n",
        "for i in range(filas):\n",
        "  for j in range(cols):  \n",
        "    idx = random.randint(0,len(dataset))\n",
        "    T, l = dataset[idx]\n",
        "    img = T.view(28,28).numpy()\n",
        "    vectorprobabilidades = red_neuronal(T)\n",
        "    prediccion = vectorprobabilidades.argmax()\n",
        "    axs[i][j].set_title(f\"Clase real: {l} \\n Predicción: {prediccion.item()}\")\n",
        "    axs[i][j].imshow(img)\n",
        "  \n",
        "\n"
      ],
      "execution_count": 0,
      "outputs": [
        {
          "output_type": "stream",
          "text": [
            "Cantidad total de datos: 10000\n"
          ],
          "name": "stdout"
        },
        {
          "output_type": "display_data",
          "data": {
            "image/png": "[encoded data removed]",
            "text/plain": [
              "<Figure size 648x1440 with 6 Axes>"
            ]
          },
          "metadata": {
            "tags": []
          }
        }
      ]
    },
    {
      "cell_type": "markdown",
      "metadata": {
        "id": "i1cZFU8rMNr1",
        "colab_type": "text"
      },
      "source": [
        "## 3d) Pasando todos los ejemplos por la red con un `DataLoader`"
      ]
    },
    {
      "cell_type": "code",
      "metadata": {
        "id": "mL49_0ZAMRd_",
        "colab_type": "code",
        "outputId": "f61c069d-7fe8-404b-9180-66007212ed9a",
        "colab": {
          "base_uri": "https://localhost:8080/",
          "height": 118
        }
      },
      "source": [
        "from torch.utils.data import DataLoader\n",
        "import numpy as np\n",
        "import statistics\n",
        "import time\n",
        "\n",
        "red_neuronal2 =  FFNN(784,[32,16],[relu,relu],10)\n",
        "equivocaciones = []\n",
        "\n",
        "\n",
        "def calcula_acierto(red,dataset,batch_size,device):\n",
        "  dataloader = DataLoader(dataset, batch_size)\n",
        "  aciertos = 0\n",
        "  red.to(device)\n",
        "  start = time.clock()\n",
        "  errores = 0\n",
        "  for x, y in dataloader:\n",
        "    x = x.to(device)\n",
        "    y = y.to(device)\n",
        "    result = red.forward(x)\n",
        "    for indice,softmaxresult in enumerate(result):\n",
        "      prediccion = softmaxresult.max(0)[1]\n",
        "      if prediccion == y[indice]:\n",
        "        aciertos = aciertos + 1\n",
        "      else:\n",
        "        if errores < 10:\n",
        "          equivocaciones.append([x[indice],prediccion.item(), y[indice].item()])\n",
        "          errores = errores + 1\n",
        "        \n",
        "  porcentaje = (aciertos/(len(dataloader)*batch_size))*100\n",
        "  print(\"El tiempo total es: \", time.clock()-start, \"segundos en\", device)\n",
        "  return porcentaje\n",
        "\n",
        "print(\"Red neuronal pre entrenada. \")\n",
        "porc = calcula_acierto(red_neuronal, dataset,100,'cpu')\n",
        "print(\"El porcentaje total de aciertos es: \", porc, \"%\")\n",
        "\n",
        "print(\"Red neuronal con parámetros al azar. \")\n",
        "\n",
        "porc = calcula_acierto(red_neuronal2, dataset,100,'cuda')\n",
        "print(\"El porcentaje total de aciertos es: \", porc, \"%\")\n",
        "\n"
      ],
      "execution_count": 0,
      "outputs": [
        {
          "output_type": "stream",
          "text": [
            "Red neuronal pre entrenada. \n",
            "El tiempo total es:  1.3748430000000003 segundos en cpu\n",
            "El porcentaje total de aciertos es:  96.12 %\n",
            "Red neuronal con parámetros al azar. \n",
            "El tiempo total es:  2.2150370000000006 segundos en cuda\n",
            "El porcentaje total de aciertos es:  10.280000000000001 %\n"
          ],
          "name": "stdout"
        }
      ]
    },
    {
      "cell_type": "markdown",
      "metadata": {
        "id": "3pgWygWCMYTx",
        "colab_type": "text"
      },
      "source": [
        "## 3e) Opcional: Muestra los casos en donde la red se equivoca"
      ]
    },
    {
      "cell_type": "code",
      "metadata": {
        "id": "FM_eP23XMaTn",
        "colab_type": "code",
        "outputId": "3e6ef075-eb36-4deb-aaca-cb6a8fd22d21",
        "colab": {
          "base_uri": "https://localhost:8080/",
          "height": 727
        }
      },
      "source": [
        "columnas = 2\n",
        "filas = 3\n",
        "fig, axs = subplots(nrows=filas, ncols=columnas, figsize=(2*columnas, 3*filas))\n",
        "aux = 0 \n",
        "\n",
        "for i in range(filas): \n",
        "  for j in range(columnas):\n",
        "    print(\"La predicción fue: \", equivocaciones[aux][1])\n",
        "    print(\"Pero su clase real era: \", equivocaciones[aux][2])\n",
        "    img = equivocaciones[aux][0].view(28,28).cpu().numpy()\n",
        "    axs[i][j].set_title(f\"Clase real: {equivocaciones[aux][2]} \\n Predicción: {equivocaciones[aux][1]}\")\n",
        "    axs[i][j].imshow(img)\n",
        "    aux = aux + 1\n",
        "  \n",
        "\n",
        "# Si es razonable que se cometan estos errores debido a que las matrices representan\n",
        "# números muy parecidos a los que fueron predecidos por la red. Esto se debe \n",
        "# o bien a una imagen distorsionada o a terminaciones parecidas entre dos o más números.\n",
        "# Para ejemplificar, en la primera imagen en la clase real se aprecia un 5 pero la predicción\n",
        "# fue un 6, en la imagen se puede ver que se asemeja a un 6 pero con la parte inferior más pequeña.\n",
        "# Por ejemplo para el último caso, la red predice que es un 7 cuando en realidad era un 9, esto\n",
        "# debido a que la parte superior del 9, el \"agujero\" apenas se aprecia, formando un número\n",
        "# similar al 7.\n",
        "\n",
        " "
      ],
      "execution_count": 0,
      "outputs": [
        {
          "output_type": "stream",
          "text": [
            "La predicción fue:  6\n",
            "Pero su clase real era:  5\n",
            "La predicción fue:  8\n",
            "Pero su clase real era:  9\n",
            "La predicción fue:  2\n",
            "Pero su clase real era:  4\n",
            "La predicción fue:  0\n",
            "Pero su clase real era:  6\n",
            "La predicción fue:  7\n",
            "Pero su clase real era:  9\n",
            "La predicción fue:  7\n",
            "Pero su clase real era:  2\n"
          ],
          "name": "stdout"
        },
        {
          "output_type": "display_data",
          "data": {
            "image/png": "[encoded data removed]",
            "text/plain": [
              "<Figure size 288x648 with 6 Axes>"
            ]
          },
          "metadata": {
            "tags": []
          }
        }
      ]
    },
    {
      "cell_type": "markdown",
      "metadata": {
        "id": "beF870pABHKe",
        "colab_type": "text"
      },
      "source": [
        "## 3d) Opcional: Crea tus propios ejemplos de dígitos para clasificar"
      ]
    },
    {
      "cell_type": "code",
      "metadata": {
        "id": "KOqCJx4LBG1W",
        "colab_type": "code",
        "outputId": "789e71d4-e99f-4fd5-ce7f-8acc21b9452b",
        "colab": {
          "base_uri": "https://localhost:8080/",
          "height": 371
        }
      },
      "source": [
        "import torchvision\n",
        "from torch.utils.data import DataLoader\n",
        "\n",
        "from IPython.display import HTML, Image\n",
        "from google.colab.output import eval_js\n",
        "from base64 import b64decode\n",
        "import string\n",
        "import random\n",
        "import os\n",
        "\n",
        "letters = string.ascii_lowercase\n",
        "print(\"DIBUJA EL NUMEROOOO\")\n",
        "canvas_html = \"\"\"\n",
        "<canvas width=%d height=%d></canvas>\n",
        "<button>Finish</button>\n",
        "<script>\n",
        "var canvas = document.querySelector('canvas')\n",
        "var ctx = canvas.getContext('2d')\n",
        "ctx.fillStyle = 'black'\n",
        "ctx.fillRect(0, 0, canvas.width, canvas.height)\n",
        "ctx.lineWidth = %d\n",
        "ctx.strokeStyle = 'white'\n",
        "var button = document.querySelector('button')\n",
        "var mouse = {x: 0, y: 0}\n",
        "canvas.addEventListener('mousemove', function(e) {\n",
        "  mouse.x = e.pageX - this.offsetLeft\n",
        "  mouse.y = e.pageY - this.offsetTop\n",
        "})\n",
        "canvas.onmousedown = ()=>{\n",
        "  ctx.beginPath()\n",
        "  ctx.moveTo(mouse.x, mouse.y)\n",
        "  canvas.addEventListener('mousemove', onPaint)\n",
        "}\n",
        "canvas.onmouseup = ()=>{\n",
        "  canvas.removeEventListener('mousemove', onPaint)\n",
        "}\n",
        "var onPaint = ()=>{\n",
        "  ctx.lineTo(mouse.x, mouse.y)\n",
        "  ctx.stroke()\n",
        "}\n",
        "var data = new Promise(resolve=>{\n",
        "  button.onclick = ()=>{\n",
        "    resolve(canvas.toDataURL('image/jpeg'))\n",
        "  }\n",
        "})\n",
        "</script>\n",
        "\"\"\"\n",
        "\n",
        "def draw(label, w=280, h=280, line_width=10):\n",
        "    display(HTML(canvas_html % (w, h, line_width)))\n",
        "    data = eval_js(\"data\")\n",
        "    binary = b64decode(data.split(',')[1])\n",
        "    path_label = f\"user_numbers/{label}/\"\n",
        "    file_name = ''.join(random.choice(letters) for i in range(10)) + \".jpg\"\n",
        "    os.makedirs(path_label, exist_ok=True)\n",
        "    with open(path_label + file_name, 'wb') as f:\n",
        "        f.write(binary)\n",
        "    return binary\n",
        "\n",
        "\n",
        "draw(label=3)# PONER EL NUMERO QUE SE QUIERE DIBUJAR\n",
        "user_made = torchvision.datasets.ImageFolder(\n",
        "        root=\"user_numbers/\",\n",
        "        transform=torchvision.transforms.Compose([\n",
        "            # transformamos las imagenes a blanco y negro\n",
        "            torchvision.transforms.Grayscale(num_output_channels=1),\n",
        "            # achicamos la imagen de 280x280 a 28x28 (mas facil dibujar en 280)\n",
        "            torchvision.transforms.Resize((28, 28), interpolation=2),\n",
        "            # a tensor de pytorch\n",
        "            torchvision.transforms.ToTensor()\n",
        "        ]) \n",
        "    )\n",
        "# Gracias por las limitaciones pytorch...\n",
        "user_made.target_transform = lambda _id: int(list(user_made.class_to_idx.keys())[list(user_made.class_to_idx.values()).index(_id)])\n",
        "\n",
        "dataloader_user = DataLoader(user_made, batch_size=1)\n",
        "print(\"Aquí esta el historial de las predicciones hechas sobre estos números: \")\n",
        "for x,y in dataloader_user:\n",
        "  x=x.view(-1,784)\n",
        "  print(\"La clase real del número dibujado es:\",  y.item())\n",
        "  print(\"La red neuronal predijo que el número era: \" + str(red_neuronal.cpu().forward(x).argmax()))\n",
        "\n",
        "#Comentarios \n",
        "\n",
        "#De lo que pude apreciar, me di cuenta que los problemas de la red neuronal se dan mas\n",
        "#que nada con los números 1 y 7, 2 y 5, 7 y 9, 8 y 9, esto se debe a los defectos\n",
        "#que pueden ocurrir al hacer los dibujos, hay veces que una inclinicación puede\n",
        "#marcar el resultado de la predicción, o bien no cerrar una de las curvas de unos números\"\"\"\n",
        "  \n",
        "  \n",
        "# OJO QUE SI SE CORRE ESTO DESPUES DE HABER PROBADO EN LA 3D CON CUDA\n",
        "# HAY QUE DEVOLVERLO A CPU PARA QUE FUNCIONE YA QUE AQUI LO ASUMIREMOS EN CPU ESTA PARTE\n",
        "# TAMBIEN SE PUEDE PASAR LA RED DE NUEVO A CUDA SI SE QUIERE PROBAR AHI"
      ],
      "execution_count": 0,
      "outputs": [
        {
          "output_type": "stream",
          "text": [
            "DIBUJA EL NUMEROOOO\n"
          ],
          "name": "stdout"
        },
        {
          "output_type": "display_data",
          "data": {
            "text/html": [
              "\n",
              "<canvas width=280 height=280></canvas>\n",
              "<button>Finish</button>\n",
              "<script>\n",
              "var canvas = document.querySelector('canvas')\n",
              "var ctx = canvas.getContext('2d')\n",
              "ctx.fillStyle = 'black'\n",
              "ctx.fillRect(0, 0, canvas.width, canvas.height)\n",
              "ctx.lineWidth = 10\n",
              "ctx.strokeStyle = 'white'\n",
              "var button = document.querySelector('button')\n",
              "var mouse = {x: 0, y: 0}\n",
              "canvas.addEventListener('mousemove', function(e) {\n",
              "  mouse.x = e.pageX - this.offsetLeft\n",
              "  mouse.y = e.pageY - this.offsetTop\n",
              "})\n",
              "canvas.onmousedown = ()=>{\n",
              "  ctx.beginPath()\n",
              "  ctx.moveTo(mouse.x, mouse.y)\n",
              "  canvas.addEventListener('mousemove', onPaint)\n",
              "}\n",
              "canvas.onmouseup = ()=>{\n",
              "  canvas.removeEventListener('mousemove', onPaint)\n",
              "}\n",
              "var onPaint = ()=>{\n",
              "  ctx.lineTo(mouse.x, mouse.y)\n",
              "  ctx.stroke()\n",
              "}\n",
              "var data = new Promise(resolve=>{\n",
              "  button.onclick = ()=>{\n",
              "    resolve(canvas.toDataURL('image/jpeg'))\n",
              "  }\n",
              "})\n",
              "</script>\n"
            ],
            "text/plain": [
              "<IPython.core.display.HTML object>"
            ]
          },
          "metadata": {
            "tags": []
          }
        },
        {
          "output_type": "stream",
          "text": [
            "Aquí esta el historial de las predicciones hechas sobre estos números: \n",
            "La clase real del número dibujado es: 3\n",
            "La red neuronal predijo que el número era: tensor(3)\n"
          ],
          "name": "stdout"
        }
      ]
    }
  ]
}